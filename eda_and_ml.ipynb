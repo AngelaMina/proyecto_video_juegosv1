{
 "cells": [
  {
   "cell_type": "markdown",
   "metadata": {},
   "source": [
    "Desarrollo del EDA Y modelo de recomendación basado en Machine Learnig"
   ]
  },
  {
   "cell_type": "markdown",
   "metadata": {},
   "source": [
    "1 Importe de librerias"
   ]
  },
  {
   "cell_type": "code",
   "execution_count": 195,
   "metadata": {},
   "outputs": [],
   "source": [
    "import pandas as pd\n",
    "import numpy as np\n",
    "import seaborn as sns\n",
    "import matplotlib.pyplot as plt\n",
    "import scipy.stats as stats \n",
    "import ast\n",
    "import json"
   ]
  },
  {
   "cell_type": "markdown",
   "metadata": {},
   "source": [
    "2 Importe de datos"
   ]
  },
  {
   "cell_type": "code",
   "execution_count": 196,
   "metadata": {},
   "outputs": [
    {
     "name": "stderr",
     "output_type": "stream",
     "text": [
      "C:\\Users\\Angela\\AppData\\Local\\Temp\\ipykernel_19688\\3281749198.py:1: DtypeWarning: Columns (0,1,2,3,4,5,6,7,8,9,10,12) have mixed types. Specify dtype option on import or set low_memory=False.\n",
      "  df_games_complete = pd.read_csv(\"df_games_eda.csv\", sep=',', encoding='utf-8-sig')\n"
     ]
    }
   ],
   "source": [
    "df_games_complete = pd.read_csv(\"df_games_eda.csv\", sep=',', encoding='utf-8-sig')\n",
    "df_reviews = pd.read_csv(\"df_reviews.csv\", sep=',', encoding='utf-8-sig')\n",
    "df_items = pd.read_csv(\"df_items.csv\", sep=',', encoding='utf-8-sig')"
   ]
  },
  {
   "cell_type": "markdown",
   "metadata": {},
   "source": [
    "3 Desarrollo del EDA"
   ]
  },
  {
   "cell_type": "markdown",
   "metadata": {},
   "source": [
    "DATA FRAME GAMES"
   ]
  },
  {
   "cell_type": "markdown",
   "metadata": {},
   "source": [
    "a. Vista explratoria "
   ]
  },
  {
   "cell_type": "code",
   "execution_count": 197,
   "metadata": {},
   "outputs": [
    {
     "data": {
      "text/html": [
       "<div>\n",
       "<style scoped>\n",
       "    .dataframe tbody tr th:only-of-type {\n",
       "        vertical-align: middle;\n",
       "    }\n",
       "\n",
       "    .dataframe tbody tr th {\n",
       "        vertical-align: top;\n",
       "    }\n",
       "\n",
       "    .dataframe thead th {\n",
       "        text-align: right;\n",
       "    }\n",
       "</style>\n",
       "<table border=\"1\" class=\"dataframe\">\n",
       "  <thead>\n",
       "    <tr style=\"text-align: right;\">\n",
       "      <th></th>\n",
       "      <th>publisher</th>\n",
       "      <th>genres</th>\n",
       "      <th>app_name</th>\n",
       "      <th>title</th>\n",
       "      <th>url</th>\n",
       "      <th>release_date</th>\n",
       "      <th>tags</th>\n",
       "      <th>reviews_url</th>\n",
       "      <th>specs</th>\n",
       "      <th>price</th>\n",
       "      <th>early_access</th>\n",
       "      <th>id</th>\n",
       "      <th>developer</th>\n",
       "    </tr>\n",
       "  </thead>\n",
       "  <tbody>\n",
       "    <tr>\n",
       "      <th>82530</th>\n",
       "      <td>NaN</td>\n",
       "      <td>NaN</td>\n",
       "      <td>NaN</td>\n",
       "      <td>NaN</td>\n",
       "      <td>NaN</td>\n",
       "      <td>NaN</td>\n",
       "      <td>NaN</td>\n",
       "      <td>NaN</td>\n",
       "      <td>NaN</td>\n",
       "      <td>NaN</td>\n",
       "      <td>NaN</td>\n",
       "      <td>NaN</td>\n",
       "      <td>NaN</td>\n",
       "    </tr>\n",
       "    <tr>\n",
       "      <th>4600</th>\n",
       "      <td>NaN</td>\n",
       "      <td>NaN</td>\n",
       "      <td>NaN</td>\n",
       "      <td>NaN</td>\n",
       "      <td>NaN</td>\n",
       "      <td>NaN</td>\n",
       "      <td>NaN</td>\n",
       "      <td>NaN</td>\n",
       "      <td>NaN</td>\n",
       "      <td>NaN</td>\n",
       "      <td>NaN</td>\n",
       "      <td>NaN</td>\n",
       "      <td>NaN</td>\n",
       "    </tr>\n",
       "    <tr>\n",
       "      <th>17476</th>\n",
       "      <td>NaN</td>\n",
       "      <td>NaN</td>\n",
       "      <td>NaN</td>\n",
       "      <td>NaN</td>\n",
       "      <td>NaN</td>\n",
       "      <td>NaN</td>\n",
       "      <td>NaN</td>\n",
       "      <td>NaN</td>\n",
       "      <td>NaN</td>\n",
       "      <td>NaN</td>\n",
       "      <td>NaN</td>\n",
       "      <td>NaN</td>\n",
       "      <td>NaN</td>\n",
       "    </tr>\n",
       "    <tr>\n",
       "      <th>8356</th>\n",
       "      <td>NaN</td>\n",
       "      <td>NaN</td>\n",
       "      <td>NaN</td>\n",
       "      <td>NaN</td>\n",
       "      <td>NaN</td>\n",
       "      <td>NaN</td>\n",
       "      <td>NaN</td>\n",
       "      <td>NaN</td>\n",
       "      <td>NaN</td>\n",
       "      <td>NaN</td>\n",
       "      <td>NaN</td>\n",
       "      <td>NaN</td>\n",
       "      <td>NaN</td>\n",
       "    </tr>\n",
       "    <tr>\n",
       "      <th>112782</th>\n",
       "      <td>Strashiner Studios, Nusa Capital INA, Enterbrain</td>\n",
       "      <td>['Action', 'Adventure', 'Indie', 'RPG', 'Strat...</td>\n",
       "      <td>A Story of the End - Revere Demo</td>\n",
       "      <td>A Story of the End - Revere Demo</td>\n",
       "      <td>http://store.steampowered.com/app/432220/A_Sto...</td>\n",
       "      <td>2017-05-20</td>\n",
       "      <td>['Action', 'Adventure', 'RPG', 'Indie', 'Strat...</td>\n",
       "      <td>http://steamcommunity.com/app/432220/reviews/?...</td>\n",
       "      <td>['Single-player', 'Game demo']</td>\n",
       "      <td>NaN</td>\n",
       "      <td>False</td>\n",
       "      <td>432220.0</td>\n",
       "      <td>Darrel Wijaya</td>\n",
       "    </tr>\n",
       "  </tbody>\n",
       "</table>\n",
       "</div>"
      ],
      "text/plain": [
       "                                               publisher   \n",
       "82530                                                NaN  \\\n",
       "4600                                                 NaN   \n",
       "17476                                                NaN   \n",
       "8356                                                 NaN   \n",
       "112782  Strashiner Studios, Nusa Capital INA, Enterbrain   \n",
       "\n",
       "                                                   genres   \n",
       "82530                                                 NaN  \\\n",
       "4600                                                  NaN   \n",
       "17476                                                 NaN   \n",
       "8356                                                  NaN   \n",
       "112782  ['Action', 'Adventure', 'Indie', 'RPG', 'Strat...   \n",
       "\n",
       "                                app_name                             title   \n",
       "82530                                NaN                               NaN  \\\n",
       "4600                                 NaN                               NaN   \n",
       "17476                                NaN                               NaN   \n",
       "8356                                 NaN                               NaN   \n",
       "112782  A Story of the End - Revere Demo  A Story of the End - Revere Demo   \n",
       "\n",
       "                                                      url release_date   \n",
       "82530                                                 NaN          NaN  \\\n",
       "4600                                                  NaN          NaN   \n",
       "17476                                                 NaN          NaN   \n",
       "8356                                                  NaN          NaN   \n",
       "112782  http://store.steampowered.com/app/432220/A_Sto...   2017-05-20   \n",
       "\n",
       "                                                     tags   \n",
       "82530                                                 NaN  \\\n",
       "4600                                                  NaN   \n",
       "17476                                                 NaN   \n",
       "8356                                                  NaN   \n",
       "112782  ['Action', 'Adventure', 'RPG', 'Indie', 'Strat...   \n",
       "\n",
       "                                              reviews_url   \n",
       "82530                                                 NaN  \\\n",
       "4600                                                  NaN   \n",
       "17476                                                 NaN   \n",
       "8356                                                  NaN   \n",
       "112782  http://steamcommunity.com/app/432220/reviews/?...   \n",
       "\n",
       "                                 specs price early_access        id   \n",
       "82530                              NaN   NaN          NaN       NaN  \\\n",
       "4600                               NaN   NaN          NaN       NaN   \n",
       "17476                              NaN   NaN          NaN       NaN   \n",
       "8356                               NaN   NaN          NaN       NaN   \n",
       "112782  ['Single-player', 'Game demo']   NaN        False  432220.0   \n",
       "\n",
       "            developer  \n",
       "82530             NaN  \n",
       "4600              NaN  \n",
       "17476             NaN  \n",
       "8356              NaN  \n",
       "112782  Darrel Wijaya  "
      ]
     },
     "execution_count": 197,
     "metadata": {},
     "output_type": "execute_result"
    }
   ],
   "source": [
    "#Vista aleatoria de datos\n",
    "df_games_complete.sample(5)"
   ]
  },
  {
   "cell_type": "code",
   "execution_count": 198,
   "metadata": {},
   "outputs": [
    {
     "name": "stdout",
     "output_type": "stream",
     "text": [
      "<class 'pandas.core.frame.DataFrame'>\n",
      "RangeIndex: 120445 entries, 0 to 120444\n",
      "Data columns (total 13 columns):\n",
      " #   Column        Non-Null Count  Dtype  \n",
      "---  ------        --------------  -----  \n",
      " 0   publisher     24064 non-null  object \n",
      " 1   genres        28852 non-null  object \n",
      " 2   app_name      32133 non-null  object \n",
      " 3   title         30085 non-null  object \n",
      " 4   url           32135 non-null  object \n",
      " 5   release_date  30068 non-null  object \n",
      " 6   tags          31972 non-null  object \n",
      " 7   reviews_url   32133 non-null  object \n",
      " 8   specs         31465 non-null  object \n",
      " 9   price         30758 non-null  object \n",
      " 10  early_access  32135 non-null  object \n",
      " 11  id            32133 non-null  float64\n",
      " 12  developer     28836 non-null  object \n",
      "dtypes: float64(1), object(12)\n",
      "memory usage: 11.9+ MB\n"
     ]
    }
   ],
   "source": [
    "#Vista general de la data\n",
    "df_games_complete.info() "
   ]
  },
  {
   "cell_type": "code",
   "execution_count": 199,
   "metadata": {},
   "outputs": [
    {
     "data": {
      "text/plain": [
       "(120445, 13)"
      ]
     },
     "execution_count": 199,
     "metadata": {},
     "output_type": "execute_result"
    }
   ],
   "source": [
    "#Se verifica el tamaño de la base de datos \n",
    "df_games_complete.shape"
   ]
  },
  {
   "cell_type": "code",
   "execution_count": 200,
   "metadata": {},
   "outputs": [
    {
     "data": {
      "text/plain": [
       "Index(['publisher', 'genres', 'app_name', 'title', 'release_date', 'tags',\n",
       "       'specs', 'price', 'early_access', 'id', 'developer'],\n",
       "      dtype='object')"
      ]
     },
     "execution_count": 200,
     "metadata": {},
     "output_type": "execute_result"
    }
   ],
   "source": [
    "#se eliminan las columnas inecesarias, (se realiza un dropna calculando el 20% de la longitud del DataFrame pero no elimino ninguna, \n",
    "# entonces se procese solo a eliminar las columnas \"url\" y \"reviews_url\" por el momento)\n",
    "df_games_complete.drop(columns=[\"url\", \"reviews_url\"], inplace=True)\n",
    "df_games_complete.columns"
   ]
  },
  {
   "cell_type": "code",
   "execution_count": 201,
   "metadata": {},
   "outputs": [
    {
     "data": {
      "text/html": [
       "<div>\n",
       "<style scoped>\n",
       "    .dataframe tbody tr th:only-of-type {\n",
       "        vertical-align: middle;\n",
       "    }\n",
       "\n",
       "    .dataframe tbody tr th {\n",
       "        vertical-align: top;\n",
       "    }\n",
       "\n",
       "    .dataframe thead th {\n",
       "        text-align: right;\n",
       "    }\n",
       "</style>\n",
       "<table border=\"1\" class=\"dataframe\">\n",
       "  <thead>\n",
       "    <tr style=\"text-align: right;\">\n",
       "      <th></th>\n",
       "      <th>id</th>\n",
       "    </tr>\n",
       "  </thead>\n",
       "  <tbody>\n",
       "    <tr>\n",
       "      <th>count</th>\n",
       "      <td>3.213300e+04</td>\n",
       "    </tr>\n",
       "    <tr>\n",
       "      <th>mean</th>\n",
       "      <td>4.517574e+05</td>\n",
       "    </tr>\n",
       "    <tr>\n",
       "      <th>std</th>\n",
       "      <td>1.827140e+05</td>\n",
       "    </tr>\n",
       "    <tr>\n",
       "      <th>min</th>\n",
       "      <td>1.000000e+01</td>\n",
       "    </tr>\n",
       "    <tr>\n",
       "      <th>25%</th>\n",
       "      <td>3.292800e+05</td>\n",
       "    </tr>\n",
       "    <tr>\n",
       "      <th>50%</th>\n",
       "      <td>4.520600e+05</td>\n",
       "    </tr>\n",
       "    <tr>\n",
       "      <th>75%</th>\n",
       "      <td>5.934000e+05</td>\n",
       "    </tr>\n",
       "    <tr>\n",
       "      <th>max</th>\n",
       "      <td>2.028850e+06</td>\n",
       "    </tr>\n",
       "  </tbody>\n",
       "</table>\n",
       "</div>"
      ],
      "text/plain": [
       "                 id\n",
       "count  3.213300e+04\n",
       "mean   4.517574e+05\n",
       "std    1.827140e+05\n",
       "min    1.000000e+01\n",
       "25%    3.292800e+05\n",
       "50%    4.520600e+05\n",
       "75%    5.934000e+05\n",
       "max    2.028850e+06"
      ]
     },
     "execution_count": 201,
     "metadata": {},
     "output_type": "execute_result"
    }
   ],
   "source": [
    "#Descripción de variables numericas, falta price\n",
    "df_games_complete.describe()"
   ]
  },
  {
   "cell_type": "code",
   "execution_count": 202,
   "metadata": {},
   "outputs": [
    {
     "data": {
      "text/html": [
       "<div>\n",
       "<style scoped>\n",
       "    .dataframe tbody tr th:only-of-type {\n",
       "        vertical-align: middle;\n",
       "    }\n",
       "\n",
       "    .dataframe tbody tr th {\n",
       "        vertical-align: top;\n",
       "    }\n",
       "\n",
       "    .dataframe thead th {\n",
       "        text-align: right;\n",
       "    }\n",
       "</style>\n",
       "<table border=\"1\" class=\"dataframe\">\n",
       "  <thead>\n",
       "    <tr style=\"text-align: right;\">\n",
       "      <th></th>\n",
       "      <th>publisher</th>\n",
       "      <th>genres</th>\n",
       "      <th>app_name</th>\n",
       "      <th>title</th>\n",
       "      <th>release_date</th>\n",
       "      <th>tags</th>\n",
       "      <th>specs</th>\n",
       "      <th>price</th>\n",
       "      <th>early_access</th>\n",
       "      <th>developer</th>\n",
       "    </tr>\n",
       "  </thead>\n",
       "  <tbody>\n",
       "    <tr>\n",
       "      <th>count</th>\n",
       "      <td>24064</td>\n",
       "      <td>28852</td>\n",
       "      <td>32133</td>\n",
       "      <td>30085</td>\n",
       "      <td>30068</td>\n",
       "      <td>31972</td>\n",
       "      <td>31465</td>\n",
       "      <td>30758</td>\n",
       "      <td>32135</td>\n",
       "      <td>28836</td>\n",
       "    </tr>\n",
       "    <tr>\n",
       "      <th>unique</th>\n",
       "      <td>8236</td>\n",
       "      <td>883</td>\n",
       "      <td>32094</td>\n",
       "      <td>30054</td>\n",
       "      <td>3582</td>\n",
       "      <td>15395</td>\n",
       "      <td>4649</td>\n",
       "      <td>162</td>\n",
       "      <td>2</td>\n",
       "      <td>10992</td>\n",
       "    </tr>\n",
       "    <tr>\n",
       "      <th>top</th>\n",
       "      <td>Ubisoft</td>\n",
       "      <td>['Action']</td>\n",
       "      <td>Soundtrack</td>\n",
       "      <td>Soundtrack</td>\n",
       "      <td>2012-10-16</td>\n",
       "      <td>['Casual', 'Simulation']</td>\n",
       "      <td>['Single-player']</td>\n",
       "      <td>4.99</td>\n",
       "      <td>False</td>\n",
       "      <td>Ubisoft - San Francisco</td>\n",
       "    </tr>\n",
       "    <tr>\n",
       "      <th>freq</th>\n",
       "      <td>385</td>\n",
       "      <td>1880</td>\n",
       "      <td>3</td>\n",
       "      <td>3</td>\n",
       "      <td>100</td>\n",
       "      <td>1292</td>\n",
       "      <td>2794</td>\n",
       "      <td>4278</td>\n",
       "      <td>30188</td>\n",
       "      <td>1259</td>\n",
       "    </tr>\n",
       "  </tbody>\n",
       "</table>\n",
       "</div>"
      ],
      "text/plain": [
       "       publisher      genres    app_name       title release_date   \n",
       "count      24064       28852       32133       30085        30068  \\\n",
       "unique      8236         883       32094       30054         3582   \n",
       "top      Ubisoft  ['Action']  Soundtrack  Soundtrack   2012-10-16   \n",
       "freq         385        1880           3           3          100   \n",
       "\n",
       "                            tags              specs  price early_access   \n",
       "count                      31972              31465  30758        32135  \\\n",
       "unique                     15395               4649    162            2   \n",
       "top     ['Casual', 'Simulation']  ['Single-player']   4.99        False   \n",
       "freq                        1292               2794   4278        30188   \n",
       "\n",
       "                      developer  \n",
       "count                     28836  \n",
       "unique                    10992  \n",
       "top     Ubisoft - San Francisco  \n",
       "freq                       1259  "
      ]
     },
     "execution_count": 202,
     "metadata": {},
     "output_type": "execute_result"
    }
   ],
   "source": [
    "# Descripcion de las columnas no numericas \n",
    "df_games_complete.describe(include=['O'])"
   ]
  },
  {
   "cell_type": "markdown",
   "metadata": {},
   "source": [
    "B. Transformación y graficación"
   ]
  },
  {
   "cell_type": "code",
   "execution_count": 203,
   "metadata": {},
   "outputs": [],
   "source": [
    "#Como se vio en la infomación price es un object, se cambia por float \n",
    "\n",
    "def convert_price(price):\n",
    "    if isinstance(price, str):  # Verificar si el precio es una cadena\n",
    "        if price.strip() == '':  # Verificar si la cadena está en blanco después de quitar espacios\n",
    "            return np.nan\n",
    "        elif price.lower() == 'free to use' or price.lower() == 'free to play':\n",
    "            return 0  # Si es gratuito, asignar 0\n",
    "        else:\n",
    "            try:\n",
    "                return float(price)  # Convertir a número si es posible\n",
    "            except ValueError:\n",
    "                return np.nan  # Si no se puede convertir, asignar NaN\n",
    "    else:\n",
    "        return price  # Mantener el valor original si no es una cadena"
   ]
  },
  {
   "cell_type": "code",
   "execution_count": 204,
   "metadata": {},
   "outputs": [],
   "source": [
    "#Aplicación de la funcion\n",
    "df_games_complete['price'] = df_games_complete['price'].apply(convert_price) "
   ]
  },
  {
   "cell_type": "code",
   "execution_count": 205,
   "metadata": {},
   "outputs": [
    {
     "data": {
      "text/html": [
       "<div>\n",
       "<style scoped>\n",
       "    .dataframe tbody tr th:only-of-type {\n",
       "        vertical-align: middle;\n",
       "    }\n",
       "\n",
       "    .dataframe tbody tr th {\n",
       "        vertical-align: top;\n",
       "    }\n",
       "\n",
       "    .dataframe thead th {\n",
       "        text-align: right;\n",
       "    }\n",
       "</style>\n",
       "<table border=\"1\" class=\"dataframe\">\n",
       "  <thead>\n",
       "    <tr style=\"text-align: right;\">\n",
       "      <th></th>\n",
       "      <th>price</th>\n",
       "      <th>id</th>\n",
       "    </tr>\n",
       "  </thead>\n",
       "  <tbody>\n",
       "    <tr>\n",
       "      <th>count</th>\n",
       "      <td>29831.000000</td>\n",
       "      <td>3.213300e+04</td>\n",
       "    </tr>\n",
       "    <tr>\n",
       "      <th>mean</th>\n",
       "      <td>9.142393</td>\n",
       "      <td>4.517574e+05</td>\n",
       "    </tr>\n",
       "    <tr>\n",
       "      <th>std</th>\n",
       "      <td>16.070487</td>\n",
       "      <td>1.827140e+05</td>\n",
       "    </tr>\n",
       "    <tr>\n",
       "      <th>min</th>\n",
       "      <td>0.000000</td>\n",
       "      <td>1.000000e+01</td>\n",
       "    </tr>\n",
       "    <tr>\n",
       "      <th>25%</th>\n",
       "      <td>2.990000</td>\n",
       "      <td>3.292800e+05</td>\n",
       "    </tr>\n",
       "    <tr>\n",
       "      <th>50%</th>\n",
       "      <td>4.990000</td>\n",
       "      <td>4.520600e+05</td>\n",
       "    </tr>\n",
       "    <tr>\n",
       "      <th>75%</th>\n",
       "      <td>9.990000</td>\n",
       "      <td>5.934000e+05</td>\n",
       "    </tr>\n",
       "    <tr>\n",
       "      <th>max</th>\n",
       "      <td>995.000000</td>\n",
       "      <td>2.028850e+06</td>\n",
       "    </tr>\n",
       "  </tbody>\n",
       "</table>\n",
       "</div>"
      ],
      "text/plain": [
       "              price            id\n",
       "count  29831.000000  3.213300e+04\n",
       "mean       9.142393  4.517574e+05\n",
       "std       16.070487  1.827140e+05\n",
       "min        0.000000  1.000000e+01\n",
       "25%        2.990000  3.292800e+05\n",
       "50%        4.990000  4.520600e+05\n",
       "75%        9.990000  5.934000e+05\n",
       "max      995.000000  2.028850e+06"
      ]
     },
     "execution_count": 205,
     "metadata": {},
     "output_type": "execute_result"
    }
   ],
   "source": [
    "#verificamos nuevamente las variables númericas\n",
    "df_games_complete.describe()"
   ]
  },
  {
   "cell_type": "code",
   "execution_count": 206,
   "metadata": {},
   "outputs": [
    {
     "name": "stdout",
     "output_type": "stream",
     "text": [
      "[nan False True]\n"
     ]
    }
   ],
   "source": [
    "#Se Verifica cuantos valores tiene 'early_access' \n",
    "unique_early_access_values = df_games_complete['early_access'].unique()\n",
    "print(unique_early_access_values)"
   ]
  },
  {
   "cell_type": "code",
   "execution_count": 207,
   "metadata": {},
   "outputs": [],
   "source": [
    "# Se Converte la columna 'early_access' a valores booleanos\n",
    "df_games_complete['early_access'] = df_games_complete['early_access'].astype(bool)"
   ]
  },
  {
   "cell_type": "code",
   "execution_count": 208,
   "metadata": {},
   "outputs": [],
   "source": [
    "# Se Convertir la columna 'release_date' a tipo de dato fecha\n",
    "df_games_complete['release_date'] = pd.to_datetime(df_games_complete['release_date'], errors='coerce')"
   ]
  },
  {
   "cell_type": "code",
   "execution_count": 209,
   "metadata": {},
   "outputs": [
    {
     "data": {
      "image/png": "[encoded data removed]",
      "text/plain": [
       "<Figure size 1000x600 with 1 Axes>"
      ]
     },
     "metadata": {},
     "output_type": "display_data"
    }
   ],
   "source": [
    "# Se grafica como se ven los datos\n",
    "plt.figure(figsize=(10, 6))\n",
    "sns.heatmap(df_games_complete.isnull(), cbar=False, cmap='viridis')\n",
    "plt.title('Valores Nulos en el DataFrame')\n",
    "plt.show()"
   ]
  },
  {
   "cell_type": "code",
   "execution_count": 210,
   "metadata": {},
   "outputs": [],
   "source": [
    "#Como se visualiza muchos datos nulo se procede hacer una limpieza para las filas que cumplen con minimo 5 columnas nulas\n",
    "\n",
    "# Definir la cantidad mínima de valores no nulos requeridos en una fila\n",
    "min_non_null_count = 5\n",
    "\n",
    "# Eliminar filas que tengan al menos min_non_null_count valores NaN, NaT o []\n",
    "df_games = df_games_complete.dropna(thresh=len(df_games_complete.columns) - min_non_null_count + 1)\n",
    "\n",
    "df_games.reset_index(drop=True, inplace=True)"
   ]
  },
  {
   "cell_type": "code",
   "execution_count": 211,
   "metadata": {},
   "outputs": [
    {
     "data": {
      "text/html": [
       "<div>\n",
       "<style scoped>\n",
       "    .dataframe tbody tr th:only-of-type {\n",
       "        vertical-align: middle;\n",
       "    }\n",
       "\n",
       "    .dataframe tbody tr th {\n",
       "        vertical-align: top;\n",
       "    }\n",
       "\n",
       "    .dataframe thead th {\n",
       "        text-align: right;\n",
       "    }\n",
       "</style>\n",
       "<table border=\"1\" class=\"dataframe\">\n",
       "  <thead>\n",
       "    <tr style=\"text-align: right;\">\n",
       "      <th></th>\n",
       "      <th>publisher</th>\n",
       "      <th>genres</th>\n",
       "      <th>app_name</th>\n",
       "      <th>title</th>\n",
       "      <th>release_date</th>\n",
       "      <th>tags</th>\n",
       "      <th>specs</th>\n",
       "      <th>price</th>\n",
       "      <th>early_access</th>\n",
       "      <th>id</th>\n",
       "      <th>developer</th>\n",
       "    </tr>\n",
       "  </thead>\n",
       "  <tbody>\n",
       "    <tr>\n",
       "      <th>25002</th>\n",
       "      <td>Mastiff</td>\n",
       "      <td>['Action', 'Adventure', 'RPG']</td>\n",
       "      <td>Gurumin: A Monstrous Adventure</td>\n",
       "      <td>Gurumin: A Monstrous Adventure</td>\n",
       "      <td>2015-03-30</td>\n",
       "      <td>['Action', 'RPG', 'Adventure', 'Cute', 'Female...</td>\n",
       "      <td>['Single-player', 'Steam Achievements', 'Full ...</td>\n",
       "      <td>9.99</td>\n",
       "      <td>False</td>\n",
       "      <td>322290.0</td>\n",
       "      <td>Nihon Falcom,Mastiff</td>\n",
       "    </tr>\n",
       "    <tr>\n",
       "      <th>1768</th>\n",
       "      <td>Warner Bros. Interactive Entertainment</td>\n",
       "      <td>['Action', 'Adventure']</td>\n",
       "      <td>Batman: Arkham Origins - Initiation</td>\n",
       "      <td>Batman: Arkham Origins - Initiation</td>\n",
       "      <td>2013-12-03</td>\n",
       "      <td>['Action', 'Adventure', 'Batman']</td>\n",
       "      <td>['Single-player', 'Multi-player', 'Downloadabl...</td>\n",
       "      <td>6.99</td>\n",
       "      <td>False</td>\n",
       "      <td>237619.0</td>\n",
       "      <td>WB Games Montreal,Splash Damage</td>\n",
       "    </tr>\n",
       "    <tr>\n",
       "      <th>6387</th>\n",
       "      <td>Persona and Pixel studio</td>\n",
       "      <td>['Indie', 'Simulation', 'Strategy']</td>\n",
       "      <td>Earth Space Colonies</td>\n",
       "      <td>Earth Space Colonies</td>\n",
       "      <td>2016-07-01</td>\n",
       "      <td>['Simulation', 'Strategy', 'Indie', 'Survival'...</td>\n",
       "      <td>['Single-player', 'Steam Achievements', 'Steam...</td>\n",
       "      <td>9.99</td>\n",
       "      <td>False</td>\n",
       "      <td>437870.0</td>\n",
       "      <td>Persona and Pixel studio</td>\n",
       "    </tr>\n",
       "  </tbody>\n",
       "</table>\n",
       "</div>"
      ],
      "text/plain": [
       "                                    publisher   \n",
       "25002                                 Mastiff  \\\n",
       "1768   Warner Bros. Interactive Entertainment   \n",
       "6387                 Persona and Pixel studio   \n",
       "\n",
       "                                    genres   \n",
       "25002       ['Action', 'Adventure', 'RPG']  \\\n",
       "1768               ['Action', 'Adventure']   \n",
       "6387   ['Indie', 'Simulation', 'Strategy']   \n",
       "\n",
       "                                  app_name   \n",
       "25002       Gurumin: A Monstrous Adventure  \\\n",
       "1768   Batman: Arkham Origins - Initiation   \n",
       "6387                  Earth Space Colonies   \n",
       "\n",
       "                                     title release_date   \n",
       "25002       Gurumin: A Monstrous Adventure   2015-03-30  \\\n",
       "1768   Batman: Arkham Origins - Initiation   2013-12-03   \n",
       "6387                  Earth Space Colonies   2016-07-01   \n",
       "\n",
       "                                                    tags   \n",
       "25002  ['Action', 'RPG', 'Adventure', 'Cute', 'Female...  \\\n",
       "1768                   ['Action', 'Adventure', 'Batman']   \n",
       "6387   ['Simulation', 'Strategy', 'Indie', 'Survival'...   \n",
       "\n",
       "                                                   specs  price  early_access   \n",
       "25002  ['Single-player', 'Steam Achievements', 'Full ...   9.99         False  \\\n",
       "1768   ['Single-player', 'Multi-player', 'Downloadabl...   6.99         False   \n",
       "6387   ['Single-player', 'Steam Achievements', 'Steam...   9.99         False   \n",
       "\n",
       "             id                        developer  \n",
       "25002  322290.0             Nihon Falcom,Mastiff  \n",
       "1768   237619.0  WB Games Montreal,Splash Damage  \n",
       "6387   437870.0         Persona and Pixel studio  "
      ]
     },
     "execution_count": 211,
     "metadata": {},
     "output_type": "execute_result"
    }
   ],
   "source": [
    "# Se hace control de la data aleatoria\n",
    "df_games.sample(3)"
   ]
  },
  {
   "cell_type": "code",
   "execution_count": 212,
   "metadata": {},
   "outputs": [
    {
     "name": "stdout",
     "output_type": "stream",
     "text": [
      "<class 'pandas.core.frame.DataFrame'>\n",
      "RangeIndex: 30049 entries, 0 to 30048\n",
      "Data columns (total 11 columns):\n",
      " #   Column        Non-Null Count  Dtype         \n",
      "---  ------        --------------  -----         \n",
      " 0   publisher     24064 non-null  object        \n",
      " 1   genres        28851 non-null  object        \n",
      " 2   app_name      30049 non-null  object        \n",
      " 3   title         30049 non-null  object        \n",
      " 4   release_date  29746 non-null  datetime64[ns]\n",
      " 5   tags          29896 non-null  object        \n",
      " 6   specs         29415 non-null  object        \n",
      " 7   price         28087 non-null  float64       \n",
      " 8   early_access  30049 non-null  bool          \n",
      " 9   id            30048 non-null  float64       \n",
      " 10  developer     28836 non-null  object        \n",
      "dtypes: bool(1), datetime64[ns](1), float64(2), object(7)\n",
      "memory usage: 2.3+ MB\n"
     ]
    }
   ],
   "source": [
    "df_games.info()"
   ]
  },
  {
   "cell_type": "code",
   "execution_count": 213,
   "metadata": {},
   "outputs": [
    {
     "data": {
      "image/png": "[encoded data removed]",
      "text/plain": [
       "<Figure size 1000x600 with 1 Axes>"
      ]
     },
     "metadata": {},
     "output_type": "display_data"
    }
   ],
   "source": [
    "# Verifico como se ven mis datos nuevamente por grafica\n",
    "plt.figure(figsize=(10, 6))\n",
    "sns.heatmap(df_games.isnull(), cbar=False, cmap='viridis')\n",
    "plt.title('Valores Nulos en el DataFrame')\n",
    "plt.show()"
   ]
  },
  {
   "cell_type": "code",
   "execution_count": 214,
   "metadata": {},
   "outputs": [
    {
     "data": {
      "text/plain": [
       "(30049, 11)"
      ]
     },
     "execution_count": 214,
     "metadata": {},
     "output_type": "execute_result"
    }
   ],
   "source": [
    "#Verifico nuevamente el tamaño de mi base de datos\n",
    "df_games.shape"
   ]
  },
  {
   "cell_type": "code",
   "execution_count": 215,
   "metadata": {},
   "outputs": [],
   "source": [
    "#Se realiza una transformacion de los datos de la columna genres\n",
    "\n",
    "# Se crea una lista vacía para almacenar los géneros individuales\n",
    "generos_individuales = []\n",
    "\n",
    "# Se Itera a través de las listas de géneros en la columna 'genres'\n",
    "for genre_str in df_games['genres']:\n",
    "    try:\n",
    "        # Se interpreta la cadena como una lista usando ast.literal_eval\n",
    "        genre_list = ast.literal_eval(genre_str)\n",
    "        if isinstance(genre_list, list):\n",
    "            generos_individuales.extend(genre_list)\n",
    "    except (SyntaxError, ValueError):\n",
    "        # Manejo de errores en la interpretación de cadena\n",
    "        pass\n",
    "\n",
    "# se crea un DataFrame con los géneros individuales\n",
    "df_generos = pd.DataFrame({'genre': generos_individuales})\n",
    "\n",
    "# se cuenta la frecuencia de cada género\n",
    "conteo_generos = df_generos['genre'].value_counts()"
   ]
  },
  {
   "cell_type": "code",
   "execution_count": 216,
   "metadata": {},
   "outputs": [
    {
     "data": {
      "text/plain": [
       "genre\n",
       "Indie                        15857\n",
       "Action                       11320\n",
       "Casual                        8282\n",
       "Adventure                     8243\n",
       "Strategy                      6957\n",
       "Simulation                    6699\n",
       "RPG                           5479\n",
       "Free to Play                  2031\n",
       "Early Access                  1462\n",
       "Sports                        1257\n",
       "Massively Multiplayer         1108\n",
       "Racing                        1083\n",
       "Design &amp; Illustration      460\n",
       "Utilities                      340\n",
       "Web Publishing                 268\n",
       "Animation &amp; Modeling       183\n",
       "Education                      125\n",
       "Video Production               116\n",
       "Software Training              105\n",
       "Audio Production                93\n",
       "Photo Editing                   77\n",
       "Accounting                       7\n",
       "Name: count, dtype: int64"
      ]
     },
     "execution_count": 216,
     "metadata": {},
     "output_type": "execute_result"
    }
   ],
   "source": [
    "# verificamos el conteo\n",
    "conteo_generos"
   ]
  },
  {
   "cell_type": "code",
   "execution_count": 217,
   "metadata": {},
   "outputs": [
    {
     "data": {
      "image/png": "[encoded data removed]",
      "text/plain": [
       "<Figure size 1200x600 with 1 Axes>"
      ]
     },
     "metadata": {},
     "output_type": "display_data"
    }
   ],
   "source": [
    "#Se grafica la cantidad de juegos por genero\n",
    "\n",
    "plt.figure(figsize=(12, 6))\n",
    "conteo_generos.plot(kind='bar')\n",
    "plt.xlabel('Género')\n",
    "plt.ylabel('Cantidad')\n",
    "plt.title('Cantidad de Géneros de Videojuegos')\n",
    "plt.xticks(rotation=90)\n",
    "plt.show()"
   ]
  },
  {
   "cell_type": "code",
   "execution_count": 218,
   "metadata": {},
   "outputs": [
    {
     "name": "stderr",
     "output_type": "stream",
     "text": [
      "C:\\Users\\Angela\\AppData\\Local\\Temp\\ipykernel_19688\\3406241636.py:3: SettingWithCopyWarning: \n",
      "A value is trying to be set on a copy of a slice from a DataFrame.\n",
      "Try using .loc[row_indexer,col_indexer] = value instead\n",
      "\n",
      "See the caveats in the documentation: https://pandas.pydata.org/pandas-docs/stable/user_guide/indexing.html#returning-a-view-versus-a-copy\n",
      "  df_games['price'] = pd.to_numeric(df_games['price'], errors='coerce')  # Convertir a numérico\n"
     ]
    },
    {
     "data": {
      "image/png": "[encoded data removed]",
      "text/plain": [
       "<Figure size 640x480 with 1 Axes>"
      ]
     },
     "metadata": {},
     "output_type": "display_data"
    }
   ],
   "source": [
    "# Grafico de distribución del precio de los juegos\n",
    "\n",
    "df_games['price'] = pd.to_numeric(df_games['price'], errors='coerce')  # Convertir a numérico\n",
    "df_games['price'].hist(bins=50)\n",
    "plt.xlabel('Precio')\n",
    "plt.ylabel('Frecuencia')\n",
    "plt.title('Distribución de Precios')\n",
    "plt.show()"
   ]
  },
  {
   "cell_type": "code",
   "execution_count": 219,
   "metadata": {},
   "outputs": [
    {
     "name": "stdout",
     "output_type": "stream",
     "text": [
      "2.99\n",
      "9.99\n",
      "7.0\n"
     ]
    }
   ],
   "source": [
    "#Se verifica outliers\n",
    "# Se calcula el IQR (Rango Intercuartil)\n",
    "Q1 = df_games['price'].quantile(0.25)\n",
    "Q3 = df_games['price'].quantile(0.75)\n",
    "IQR = Q3 - Q1\n",
    "print(Q1)\n",
    "print(Q3)\n",
    "print(IQR)"
   ]
  },
  {
   "cell_type": "code",
   "execution_count": 220,
   "metadata": {},
   "outputs": [
    {
     "name": "stdout",
     "output_type": "stream",
     "text": [
      "20.490000000000002\n",
      "-7.51\n"
     ]
    }
   ],
   "source": [
    "#Se defiene el umbral de outliers\n",
    "umbral_superior = Q3 + 1.5 * IQR\n",
    "umbral_inferior = Q1 - 1.5 * IQR\n",
    "print(umbral_superior)\n",
    "print(umbral_inferior)"
   ]
  },
  {
   "cell_type": "code",
   "execution_count": 221,
   "metadata": {},
   "outputs": [
    {
     "name": "stdout",
     "output_type": "stream",
     "text": [
      "                              publisher   \n",
      "7                Poppermost Productions  \\\n",
      "16               Poppermost Productions   \n",
      "49                               SimBin   \n",
      "223                              NCsoft   \n",
      "301             Dovetail Games - Trains   \n",
      "...                                 ...   \n",
      "29855                               NaN   \n",
      "29873  Firedog Creative Company Limited   \n",
      "29893                 CarX Technologies   \n",
      "29991                  DreamInCode B.V.   \n",
      "30014                        Koch Media   \n",
      "\n",
      "                                                  genres   \n",
      "7      ['Free to Play', 'Indie', 'Simulation', 'Sports']  \\\n",
      "16     ['Free to Play', 'Indie', 'Simulation', 'Sports']   \n",
      "49                                            ['Racing']   \n",
      "223                     ['Massively Multiplayer', 'RPG']   \n",
      "301                                       ['Simulation']   \n",
      "...                                                  ...   \n",
      "29855  ['Animation &amp; Modeling', 'Design &amp; Ill...   \n",
      "29873                              ['RPG', 'Simulation']   \n",
      "29893  ['Massively Multiplayer', 'Racing', 'Simulatio...   \n",
      "29991  ['Action', 'Adventure', 'Casual', 'Indie', 'Si...   \n",
      "30014                  ['Utilities', 'Video Production']   \n",
      "\n",
      "                                              app_name   \n",
      "7                        SNOW - All Access Legend Pass  \\\n",
      "16                                SNOW - Lifetime Pack   \n",
      "49                                RACE - The WTCC Game   \n",
      "223                                 Guild Wars Trilogy   \n",
      "301    Train Simulator: Colton & Northern Route Add-On   \n",
      "...                                                ...   \n",
      "29855                      Radius-Wing SHMUP 3d Models   \n",
      "29873                                            愛神餐館2   \n",
      "29893                CarX Drift Racing Online - Deluxe   \n",
      "29991                                        Mesozoica   \n",
      "30014                        CyberLink YouCam 7 Deluxe   \n",
      "\n",
      "                                                   title release_date   \n",
      "7                          SNOW - All Access Legend Pass   2018-01-04  \\\n",
      "16                                  SNOW - Lifetime Pack   2018-01-03   \n",
      "49                                  RACE - The WTCC Game   2006-11-24   \n",
      "223                                   Guild Wars Trilogy   2008-09-25   \n",
      "301    Train Simulator: Colton &amp; Northern Route A...   2009-09-25   \n",
      "...                                                  ...          ...   \n",
      "29855                        Radius-Wing SHMUP 3d Models   2017-12-29   \n",
      "29873                                              愛神餐館2   2017-12-29   \n",
      "29893                  CarX Drift Racing Online - Deluxe   2017-12-28   \n",
      "29991                                          Mesozoica   2018-01-02   \n",
      "30014                          CyberLink YouCam 7 Deluxe   2017-12-26   \n",
      "\n",
      "                                                    tags   \n",
      "7      ['Free to Play', 'Indie', 'Simulation', 'Sports']  \\\n",
      "16     ['Free to Play', 'Indie', 'Simulation', 'Sports']   \n",
      "49                              ['Racing', 'Simulation']   \n",
      "223    ['RPG', 'Massively Multiplayer', 'MMORPG', 'PvP']   \n",
      "301    ['Simulation', 'Trains', 'Co-op', 'Open World'...   \n",
      "...                                                  ...   \n",
      "29855  ['Design & Illustration', 'Utilities', 'Animat...   \n",
      "29873                     ['RPG', 'Simulation', 'Anime']   \n",
      "29893  ['Massively Multiplayer', 'Simulation', 'Racin...   \n",
      "29991  ['Early Access', 'Simulation', 'Strategy', 'Ca...   \n",
      "30014                  ['Utilities', 'Video Production']   \n",
      "\n",
      "                                                   specs  price  early_access   \n",
      "7      ['Single-player', 'Multi-player', 'Online Mult...  29.99         False  \\\n",
      "16     ['Single-player', 'Multi-player', 'Online Mult...  59.99         False   \n",
      "49                     ['Single-player', 'Multi-player']  39.99         False   \n",
      "223                              ['Multi-player', 'MMO']  29.99         False   \n",
      "301            ['Single-player', 'Downloadable Content']  24.99         False   \n",
      "...                                                  ...    ...           ...   \n",
      "29855                           ['Downloadable Content']  24.99         False   \n",
      "29873                                  ['Single-player']  34.99         False   \n",
      "29893  ['Single-player', 'Multi-player', 'Online Mult...  29.99         False   \n",
      "29991                                  ['Single-player']  29.99          True   \n",
      "30014                                                NaN  29.99         False   \n",
      "\n",
      "             id                              developer  \n",
      "7      774278.0                 Poppermost Productions  \n",
      "16     774279.0                 Poppermost Productions  \n",
      "49       4230.0                                 SimBin  \n",
      "223     29570.0                              ArenaNet®  \n",
      "301     24029.0                             All Aboard  \n",
      "...         ...                                    ...  \n",
      "29855  774931.0                            BrashMonkey  \n",
      "29873  769680.0       Firedog Creative Company Limited  \n",
      "29893  776950.0                      CarX Technologies  \n",
      "29991  719590.0  DreamInCode B.V.,Squadron Interactive  \n",
      "30014  755310.0                              CyberLink  \n",
      "\n",
      "[1770 rows x 11 columns]\n",
      "Empty DataFrame\n",
      "Columns: [publisher, genres, app_name, title, release_date, tags, specs, price, early_access, id, developer]\n",
      "Index: []\n"
     ]
    }
   ],
   "source": [
    "#Se identifican los outliers\n",
    "outliers_superiores = df_games[df_games['price'] > umbral_superior]\n",
    "outliers_inferiores = df_games[df_games['price'] < umbral_inferior]\n",
    "print(outliers_superiores)\n",
    "print(outliers_inferiores)"
   ]
  },
  {
   "cell_type": "code",
   "execution_count": 222,
   "metadata": {},
   "outputs": [],
   "source": [
    "#No se eliminara ningun valor ya que se puede analizar que en el caso de los juegos de precios altos como los outlier, podrian ser juegos premium\n",
    "# o ediciones especiales, mientras que lo valores bajos son lo gratis o de oferta"
   ]
  },
  {
   "cell_type": "code",
   "execution_count": 223,
   "metadata": {},
   "outputs": [
    {
     "data": {
      "text/plain": [
       "Index(['publisher', 'genres', 'app_name', 'title', 'release_date', 'tags',\n",
       "       'specs', 'price', 'early_access', 'id', 'developer'],\n",
       "      dtype='object')"
      ]
     },
     "execution_count": 223,
     "metadata": {},
     "output_type": "execute_result"
    }
   ],
   "source": [
    "df_games.columns"
   ]
  },
  {
   "cell_type": "code",
   "execution_count": 224,
   "metadata": {},
   "outputs": [
    {
     "name": "stderr",
     "output_type": "stream",
     "text": [
      "C:\\Users\\Angela\\AppData\\Local\\Temp\\ipykernel_19688\\1353860611.py:3: SettingWithCopyWarning: \n",
      "A value is trying to be set on a copy of a slice from a DataFrame\n",
      "\n",
      "See the caveats in the documentation: https://pandas.pydata.org/pandas-docs/stable/user_guide/indexing.html#returning-a-view-versus-a-copy\n",
      "  df_games.drop( ['publisher','release_date','price','early_access','id','developer','app_name', 'tags'], axis=1, inplace=True)\n"
     ]
    }
   ],
   "source": [
    "#se eliminaran varias columnas para nuestro analisis de modelado\n",
    "\n",
    "df_games.drop( ['publisher','release_date','price','early_access','id','developer','app_name', 'tags'], axis=1, inplace=True)"
   ]
  },
  {
   "cell_type": "code",
   "execution_count": 225,
   "metadata": {},
   "outputs": [
    {
     "data": {
      "text/html": [
       "<div>\n",
       "<style scoped>\n",
       "    .dataframe tbody tr th:only-of-type {\n",
       "        vertical-align: middle;\n",
       "    }\n",
       "\n",
       "    .dataframe tbody tr th {\n",
       "        vertical-align: top;\n",
       "    }\n",
       "\n",
       "    .dataframe thead th {\n",
       "        text-align: right;\n",
       "    }\n",
       "</style>\n",
       "<table border=\"1\" class=\"dataframe\">\n",
       "  <thead>\n",
       "    <tr style=\"text-align: right;\">\n",
       "      <th></th>\n",
       "      <th>genres</th>\n",
       "      <th>title</th>\n",
       "      <th>specs</th>\n",
       "    </tr>\n",
       "  </thead>\n",
       "  <tbody>\n",
       "    <tr>\n",
       "      <th>0</th>\n",
       "      <td>['Action', 'Casual', 'Indie', 'Simulation', 'S...</td>\n",
       "      <td>Lost Summoner Kitty</td>\n",
       "      <td>['Single-player']</td>\n",
       "    </tr>\n",
       "    <tr>\n",
       "      <th>1</th>\n",
       "      <td>['Free to Play', 'Indie', 'RPG', 'Strategy']</td>\n",
       "      <td>Ironbound</td>\n",
       "      <td>['Single-player', 'Multi-player', 'Online Mult...</td>\n",
       "    </tr>\n",
       "    <tr>\n",
       "      <th>2</th>\n",
       "      <td>['Casual', 'Free to Play', 'Indie', 'Simulatio...</td>\n",
       "      <td>Real Pool 3D - Poolians</td>\n",
       "      <td>['Single-player', 'Multi-player', 'Online Mult...</td>\n",
       "    </tr>\n",
       "    <tr>\n",
       "      <th>3</th>\n",
       "      <td>['Action', 'Adventure', 'Casual']</td>\n",
       "      <td>弹炸人2222</td>\n",
       "      <td>['Single-player']</td>\n",
       "    </tr>\n",
       "    <tr>\n",
       "      <th>4</th>\n",
       "      <td>['Action', 'Adventure', 'Simulation']</td>\n",
       "      <td>Battle Royale Trainer</td>\n",
       "      <td>['Single-player', 'Steam Achievements']</td>\n",
       "    </tr>\n",
       "    <tr>\n",
       "      <th>...</th>\n",
       "      <td>...</td>\n",
       "      <td>...</td>\n",
       "      <td>...</td>\n",
       "    </tr>\n",
       "    <tr>\n",
       "      <th>30044</th>\n",
       "      <td>['Action', 'Adventure', 'Casual', 'Indie']</td>\n",
       "      <td>Kebab it Up!</td>\n",
       "      <td>['Single-player', 'Steam Achievements', 'Steam...</td>\n",
       "    </tr>\n",
       "    <tr>\n",
       "      <th>30045</th>\n",
       "      <td>['Casual', 'Indie', 'Simulation', 'Strategy']</td>\n",
       "      <td>Colony On Mars</td>\n",
       "      <td>['Single-player', 'Steam Achievements']</td>\n",
       "    </tr>\n",
       "    <tr>\n",
       "      <th>30046</th>\n",
       "      <td>['Casual', 'Indie', 'Strategy']</td>\n",
       "      <td>LOGistICAL: South Africa</td>\n",
       "      <td>['Single-player', 'Steam Achievements', 'Steam...</td>\n",
       "    </tr>\n",
       "    <tr>\n",
       "      <th>30047</th>\n",
       "      <td>['Indie', 'Racing', 'Simulation']</td>\n",
       "      <td>Russian Roads</td>\n",
       "      <td>['Single-player', 'Steam Achievements', 'Steam...</td>\n",
       "    </tr>\n",
       "    <tr>\n",
       "      <th>30048</th>\n",
       "      <td>['Casual', 'Indie']</td>\n",
       "      <td>EXIT 2 - Directions</td>\n",
       "      <td>['Single-player', 'Steam Achievements', 'Steam...</td>\n",
       "    </tr>\n",
       "  </tbody>\n",
       "</table>\n",
       "<p>30049 rows × 3 columns</p>\n",
       "</div>"
      ],
      "text/plain": [
       "                                                  genres   \n",
       "0      ['Action', 'Casual', 'Indie', 'Simulation', 'S...  \\\n",
       "1           ['Free to Play', 'Indie', 'RPG', 'Strategy']   \n",
       "2      ['Casual', 'Free to Play', 'Indie', 'Simulatio...   \n",
       "3                      ['Action', 'Adventure', 'Casual']   \n",
       "4                  ['Action', 'Adventure', 'Simulation']   \n",
       "...                                                  ...   \n",
       "30044         ['Action', 'Adventure', 'Casual', 'Indie']   \n",
       "30045      ['Casual', 'Indie', 'Simulation', 'Strategy']   \n",
       "30046                    ['Casual', 'Indie', 'Strategy']   \n",
       "30047                  ['Indie', 'Racing', 'Simulation']   \n",
       "30048                                ['Casual', 'Indie']   \n",
       "\n",
       "                          title   \n",
       "0           Lost Summoner Kitty  \\\n",
       "1                     Ironbound   \n",
       "2       Real Pool 3D - Poolians   \n",
       "3                       弹炸人2222   \n",
       "4         Battle Royale Trainer   \n",
       "...                         ...   \n",
       "30044              Kebab it Up!   \n",
       "30045            Colony On Mars   \n",
       "30046  LOGistICAL: South Africa   \n",
       "30047             Russian Roads   \n",
       "30048       EXIT 2 - Directions   \n",
       "\n",
       "                                                   specs  \n",
       "0                                      ['Single-player']  \n",
       "1      ['Single-player', 'Multi-player', 'Online Mult...  \n",
       "2      ['Single-player', 'Multi-player', 'Online Mult...  \n",
       "3                                      ['Single-player']  \n",
       "4                ['Single-player', 'Steam Achievements']  \n",
       "...                                                  ...  \n",
       "30044  ['Single-player', 'Steam Achievements', 'Steam...  \n",
       "30045            ['Single-player', 'Steam Achievements']  \n",
       "30046  ['Single-player', 'Steam Achievements', 'Steam...  \n",
       "30047  ['Single-player', 'Steam Achievements', 'Steam...  \n",
       "30048  ['Single-player', 'Steam Achievements', 'Steam...  \n",
       "\n",
       "[30049 rows x 3 columns]"
      ]
     },
     "execution_count": 225,
     "metadata": {},
     "output_type": "execute_result"
    }
   ],
   "source": [
    "# Visualizamos como queda el df \n",
    "df_games"
   ]
  },
  {
   "cell_type": "markdown",
   "metadata": {},
   "source": [
    "DATA FRAME REVIEWS"
   ]
  },
  {
   "cell_type": "code",
   "execution_count": 226,
   "metadata": {},
   "outputs": [
    {
     "data": {
      "text/html": [
       "<div>\n",
       "<style scoped>\n",
       "    .dataframe tbody tr th:only-of-type {\n",
       "        vertical-align: middle;\n",
       "    }\n",
       "\n",
       "    .dataframe tbody tr th {\n",
       "        vertical-align: top;\n",
       "    }\n",
       "\n",
       "    .dataframe thead th {\n",
       "        text-align: right;\n",
       "    }\n",
       "</style>\n",
       "<table border=\"1\" class=\"dataframe\">\n",
       "  <thead>\n",
       "    <tr style=\"text-align: right;\">\n",
       "      <th></th>\n",
       "      <th>user_id_reviews</th>\n",
       "      <th>funny</th>\n",
       "      <th>posted</th>\n",
       "      <th>last_edited</th>\n",
       "      <th>item_id</th>\n",
       "      <th>helpful</th>\n",
       "      <th>recommend</th>\n",
       "      <th>sentiment_analysis</th>\n",
       "    </tr>\n",
       "  </thead>\n",
       "  <tbody>\n",
       "    <tr>\n",
       "      <th>0</th>\n",
       "      <td>76561197970982479</td>\n",
       "      <td>NaN</td>\n",
       "      <td>November 05, 2011</td>\n",
       "      <td>NaN</td>\n",
       "      <td>1250</td>\n",
       "      <td>No ratings yet</td>\n",
       "      <td>True</td>\n",
       "      <td>1</td>\n",
       "    </tr>\n",
       "    <tr>\n",
       "      <th>1</th>\n",
       "      <td>76561197970982479</td>\n",
       "      <td>NaN</td>\n",
       "      <td>July 15, 2011</td>\n",
       "      <td>NaN</td>\n",
       "      <td>22200</td>\n",
       "      <td>No ratings yet</td>\n",
       "      <td>True</td>\n",
       "      <td>2</td>\n",
       "    </tr>\n",
       "    <tr>\n",
       "      <th>2</th>\n",
       "      <td>76561197970982479</td>\n",
       "      <td>NaN</td>\n",
       "      <td>April 21, 2011</td>\n",
       "      <td>NaN</td>\n",
       "      <td>43110</td>\n",
       "      <td>No ratings yet</td>\n",
       "      <td>True</td>\n",
       "      <td>1</td>\n",
       "    </tr>\n",
       "    <tr>\n",
       "      <th>3</th>\n",
       "      <td>js41637</td>\n",
       "      <td>NaN</td>\n",
       "      <td>June 24, 2014</td>\n",
       "      <td>NaN</td>\n",
       "      <td>251610</td>\n",
       "      <td>15 of 20 people (75%) found this review helpful</td>\n",
       "      <td>True</td>\n",
       "      <td>1</td>\n",
       "    </tr>\n",
       "    <tr>\n",
       "      <th>4</th>\n",
       "      <td>js41637</td>\n",
       "      <td>NaN</td>\n",
       "      <td>September 08, 2013</td>\n",
       "      <td>NaN</td>\n",
       "      <td>227300</td>\n",
       "      <td>0 of 1 people (0%) found this review helpful</td>\n",
       "      <td>True</td>\n",
       "      <td>1</td>\n",
       "    </tr>\n",
       "    <tr>\n",
       "      <th>...</th>\n",
       "      <td>...</td>\n",
       "      <td>...</td>\n",
       "      <td>...</td>\n",
       "      <td>...</td>\n",
       "      <td>...</td>\n",
       "      <td>...</td>\n",
       "      <td>...</td>\n",
       "      <td>...</td>\n",
       "    </tr>\n",
       "    <tr>\n",
       "      <th>59300</th>\n",
       "      <td>76561198312638244</td>\n",
       "      <td>NaN</td>\n",
       "      <td>NaN</td>\n",
       "      <td>NaN</td>\n",
       "      <td>70</td>\n",
       "      <td>No ratings yet</td>\n",
       "      <td>True</td>\n",
       "      <td>2</td>\n",
       "    </tr>\n",
       "    <tr>\n",
       "      <th>59301</th>\n",
       "      <td>76561198312638244</td>\n",
       "      <td>NaN</td>\n",
       "      <td>NaN</td>\n",
       "      <td>NaN</td>\n",
       "      <td>362890</td>\n",
       "      <td>No ratings yet</td>\n",
       "      <td>True</td>\n",
       "      <td>1</td>\n",
       "    </tr>\n",
       "    <tr>\n",
       "      <th>59302</th>\n",
       "      <td>LydiaMorley</td>\n",
       "      <td>1 person found this review funny</td>\n",
       "      <td>NaN</td>\n",
       "      <td>NaN</td>\n",
       "      <td>273110</td>\n",
       "      <td>1 of 2 people (50%) found this review helpful</td>\n",
       "      <td>True</td>\n",
       "      <td>1</td>\n",
       "    </tr>\n",
       "    <tr>\n",
       "      <th>59303</th>\n",
       "      <td>LydiaMorley</td>\n",
       "      <td>NaN</td>\n",
       "      <td>NaN</td>\n",
       "      <td>NaN</td>\n",
       "      <td>730</td>\n",
       "      <td>No ratings yet</td>\n",
       "      <td>True</td>\n",
       "      <td>2</td>\n",
       "    </tr>\n",
       "    <tr>\n",
       "      <th>59304</th>\n",
       "      <td>LydiaMorley</td>\n",
       "      <td>NaN</td>\n",
       "      <td>NaN</td>\n",
       "      <td>NaN</td>\n",
       "      <td>440</td>\n",
       "      <td>No ratings yet</td>\n",
       "      <td>True</td>\n",
       "      <td>2</td>\n",
       "    </tr>\n",
       "  </tbody>\n",
       "</table>\n",
       "<p>59305 rows × 8 columns</p>\n",
       "</div>"
      ],
      "text/plain": [
       "         user_id_reviews                             funny   \n",
       "0      76561197970982479                               NaN  \\\n",
       "1      76561197970982479                               NaN   \n",
       "2      76561197970982479                               NaN   \n",
       "3                js41637                               NaN   \n",
       "4                js41637                               NaN   \n",
       "...                  ...                               ...   \n",
       "59300  76561198312638244                               NaN   \n",
       "59301  76561198312638244                               NaN   \n",
       "59302        LydiaMorley  1 person found this review funny   \n",
       "59303        LydiaMorley                               NaN   \n",
       "59304        LydiaMorley                               NaN   \n",
       "\n",
       "                   posted last_edited  item_id   \n",
       "0       November 05, 2011         NaN     1250  \\\n",
       "1           July 15, 2011         NaN    22200   \n",
       "2          April 21, 2011         NaN    43110   \n",
       "3           June 24, 2014         NaN   251610   \n",
       "4      September 08, 2013         NaN   227300   \n",
       "...                   ...         ...      ...   \n",
       "59300                 NaN         NaN       70   \n",
       "59301                 NaN         NaN   362890   \n",
       "59302                 NaN         NaN   273110   \n",
       "59303                 NaN         NaN      730   \n",
       "59304                 NaN         NaN      440   \n",
       "\n",
       "                                               helpful  recommend   \n",
       "0                                       No ratings yet       True  \\\n",
       "1                                       No ratings yet       True   \n",
       "2                                       No ratings yet       True   \n",
       "3      15 of 20 people (75%) found this review helpful       True   \n",
       "4         0 of 1 people (0%) found this review helpful       True   \n",
       "...                                                ...        ...   \n",
       "59300                                   No ratings yet       True   \n",
       "59301                                   No ratings yet       True   \n",
       "59302    1 of 2 people (50%) found this review helpful       True   \n",
       "59303                                   No ratings yet       True   \n",
       "59304                                   No ratings yet       True   \n",
       "\n",
       "       sentiment_analysis  \n",
       "0                       1  \n",
       "1                       2  \n",
       "2                       1  \n",
       "3                       1  \n",
       "4                       1  \n",
       "...                   ...  \n",
       "59300                   2  \n",
       "59301                   1  \n",
       "59302                   1  \n",
       "59303                   2  \n",
       "59304                   2  \n",
       "\n",
       "[59305 rows x 8 columns]"
      ]
     },
     "execution_count": 226,
     "metadata": {},
     "output_type": "execute_result"
    }
   ],
   "source": [
    "# Visulización del df_reviews\n",
    "df_reviews"
   ]
  },
  {
   "cell_type": "code",
   "execution_count": 227,
   "metadata": {},
   "outputs": [
    {
     "name": "stdout",
     "output_type": "stream",
     "text": [
      "<class 'pandas.core.frame.DataFrame'>\n",
      "RangeIndex: 59305 entries, 0 to 59304\n",
      "Data columns (total 8 columns):\n",
      " #   Column              Non-Null Count  Dtype \n",
      "---  ------              --------------  ----- \n",
      " 0   user_id_reviews     59305 non-null  object\n",
      " 1   funny               8151 non-null   object\n",
      " 2   posted              49186 non-null  object\n",
      " 3   last_edited         4277 non-null   object\n",
      " 4   item_id             59305 non-null  int64 \n",
      " 5   helpful             59305 non-null  object\n",
      " 6   recommend           59305 non-null  bool  \n",
      " 7   sentiment_analysis  59305 non-null  int64 \n",
      "dtypes: bool(1), int64(2), object(5)\n",
      "memory usage: 3.2+ MB\n"
     ]
    }
   ],
   "source": [
    "# Vista general de la data\n",
    "df_reviews.info()"
   ]
  },
  {
   "cell_type": "code",
   "execution_count": 228,
   "metadata": {},
   "outputs": [
    {
     "data": {
      "text/plain": [
       "(59305, 8)"
      ]
     },
     "execution_count": 228,
     "metadata": {},
     "output_type": "execute_result"
    }
   ],
   "source": [
    "# Se verifica el tamaña de la base de datos\n",
    "df_reviews.shape"
   ]
  },
  {
   "cell_type": "code",
   "execution_count": 229,
   "metadata": {},
   "outputs": [],
   "source": [
    "#Se elimina las columnas funny, posted, last_edited, helpful\n",
    "df_reviews.drop(['funny', 'posted', 'last_edited','helpful'], axis=1, inplace=True)"
   ]
  },
  {
   "cell_type": "code",
   "execution_count": 230,
   "metadata": {},
   "outputs": [
    {
     "data": {
      "text/html": [
       "<div>\n",
       "<style scoped>\n",
       "    .dataframe tbody tr th:only-of-type {\n",
       "        vertical-align: middle;\n",
       "    }\n",
       "\n",
       "    .dataframe tbody tr th {\n",
       "        vertical-align: top;\n",
       "    }\n",
       "\n",
       "    .dataframe thead th {\n",
       "        text-align: right;\n",
       "    }\n",
       "</style>\n",
       "<table border=\"1\" class=\"dataframe\">\n",
       "  <thead>\n",
       "    <tr style=\"text-align: right;\">\n",
       "      <th></th>\n",
       "      <th>item_id</th>\n",
       "      <th>sentiment_analysis</th>\n",
       "    </tr>\n",
       "  </thead>\n",
       "  <tbody>\n",
       "    <tr>\n",
       "      <th>count</th>\n",
       "      <td>59305.000000</td>\n",
       "      <td>59305.000000</td>\n",
       "    </tr>\n",
       "    <tr>\n",
       "      <th>mean</th>\n",
       "      <td>169935.176511</td>\n",
       "      <td>1.209628</td>\n",
       "    </tr>\n",
       "    <tr>\n",
       "      <th>std</th>\n",
       "      <td>132029.464174</td>\n",
       "      <td>0.584085</td>\n",
       "    </tr>\n",
       "    <tr>\n",
       "      <th>min</th>\n",
       "      <td>10.000000</td>\n",
       "      <td>0.000000</td>\n",
       "    </tr>\n",
       "    <tr>\n",
       "      <th>25%</th>\n",
       "      <td>8930.000000</td>\n",
       "      <td>1.000000</td>\n",
       "    </tr>\n",
       "    <tr>\n",
       "      <th>50%</th>\n",
       "      <td>218230.000000</td>\n",
       "      <td>1.000000</td>\n",
       "    </tr>\n",
       "    <tr>\n",
       "      <th>75%</th>\n",
       "      <td>261760.000000</td>\n",
       "      <td>2.000000</td>\n",
       "    </tr>\n",
       "    <tr>\n",
       "      <th>max</th>\n",
       "      <td>527340.000000</td>\n",
       "      <td>2.000000</td>\n",
       "    </tr>\n",
       "  </tbody>\n",
       "</table>\n",
       "</div>"
      ],
      "text/plain": [
       "             item_id  sentiment_analysis\n",
       "count   59305.000000        59305.000000\n",
       "mean   169935.176511            1.209628\n",
       "std    132029.464174            0.584085\n",
       "min        10.000000            0.000000\n",
       "25%      8930.000000            1.000000\n",
       "50%    218230.000000            1.000000\n",
       "75%    261760.000000            2.000000\n",
       "max    527340.000000            2.000000"
      ]
     },
     "execution_count": 230,
     "metadata": {},
     "output_type": "execute_result"
    }
   ],
   "source": [
    "# Descripcion de variables numericas\n",
    "df_reviews.describe()"
   ]
  },
  {
   "cell_type": "code",
   "execution_count": 231,
   "metadata": {},
   "outputs": [
    {
     "data": {
      "text/html": [
       "<div>\n",
       "<style scoped>\n",
       "    .dataframe tbody tr th:only-of-type {\n",
       "        vertical-align: middle;\n",
       "    }\n",
       "\n",
       "    .dataframe tbody tr th {\n",
       "        vertical-align: top;\n",
       "    }\n",
       "\n",
       "    .dataframe thead th {\n",
       "        text-align: right;\n",
       "    }\n",
       "</style>\n",
       "<table border=\"1\" class=\"dataframe\">\n",
       "  <thead>\n",
       "    <tr style=\"text-align: right;\">\n",
       "      <th></th>\n",
       "      <th>user_id_reviews</th>\n",
       "    </tr>\n",
       "  </thead>\n",
       "  <tbody>\n",
       "    <tr>\n",
       "      <th>count</th>\n",
       "      <td>59305</td>\n",
       "    </tr>\n",
       "    <tr>\n",
       "      <th>unique</th>\n",
       "      <td>25458</td>\n",
       "    </tr>\n",
       "    <tr>\n",
       "      <th>top</th>\n",
       "      <td>76561198094665607</td>\n",
       "    </tr>\n",
       "    <tr>\n",
       "      <th>freq</th>\n",
       "      <td>20</td>\n",
       "    </tr>\n",
       "  </tbody>\n",
       "</table>\n",
       "</div>"
      ],
      "text/plain": [
       "          user_id_reviews\n",
       "count               59305\n",
       "unique              25458\n",
       "top     76561198094665607\n",
       "freq                   20"
      ]
     },
     "execution_count": 231,
     "metadata": {},
     "output_type": "execute_result"
    }
   ],
   "source": [
    "# Descripcion de las columnas no numericas \n",
    "df_reviews.describe(include=['O'])"
   ]
  },
  {
   "cell_type": "code",
   "execution_count": 232,
   "metadata": {},
   "outputs": [
    {
     "data": {
      "image/png": "[encoded data removed]",
      "text/plain": [
       "<Figure size 600x400 with 1 Axes>"
      ]
     },
     "metadata": {},
     "output_type": "display_data"
    },
    {
     "name": "stdout",
     "output_type": "stream",
     "text": [
      "Proporción de recomendaciones:\n",
      "recommend\n",
      "True     0.884799\n",
      "False    0.115201\n",
      "Name: proportion, dtype: float64\n"
     ]
    }
   ],
   "source": [
    "# Se calcula la proporción de revisiones que recomiendan el producto\n",
    "recommendation_counts = df_reviews['recommend'].value_counts(normalize=True)\n",
    "\n",
    "# Visualizar la proporción de recomendaciones\n",
    "plt.figure(figsize=(6, 4))\n",
    "recommendation_counts.plot(kind='bar', rot=0)\n",
    "plt.title('Proporción de Recomendaciones')\n",
    "plt.xlabel('Recomienda el Producto')\n",
    "plt.ylabel('Proporción')\n",
    "plt.xticks([0, 1], ['Si', 'no'])  # Etiquetas de los ejes x\n",
    "plt.show()\n",
    "\n",
    "# Imprimir resultados\n",
    "print(\"Proporción de recomendaciones:\")\n",
    "print(recommendation_counts)"
   ]
  },
  {
   "cell_type": "code",
   "execution_count": 233,
   "metadata": {},
   "outputs": [
    {
     "data": {
      "text/html": [
       "<div>\n",
       "<style scoped>\n",
       "    .dataframe tbody tr th:only-of-type {\n",
       "        vertical-align: middle;\n",
       "    }\n",
       "\n",
       "    .dataframe tbody tr th {\n",
       "        vertical-align: top;\n",
       "    }\n",
       "\n",
       "    .dataframe thead th {\n",
       "        text-align: right;\n",
       "    }\n",
       "</style>\n",
       "<table border=\"1\" class=\"dataframe\">\n",
       "  <thead>\n",
       "    <tr style=\"text-align: right;\">\n",
       "      <th></th>\n",
       "      <th>user_id_reviews</th>\n",
       "      <th>item_id</th>\n",
       "      <th>recommend</th>\n",
       "      <th>sentiment_analysis</th>\n",
       "    </tr>\n",
       "  </thead>\n",
       "  <tbody>\n",
       "    <tr>\n",
       "      <th>35644</th>\n",
       "      <td>76561198085905659</td>\n",
       "      <td>550</td>\n",
       "      <td>True</td>\n",
       "      <td>1</td>\n",
       "    </tr>\n",
       "    <tr>\n",
       "      <th>7694</th>\n",
       "      <td>snakrobotza3</td>\n",
       "      <td>413150</td>\n",
       "      <td>True</td>\n",
       "      <td>1</td>\n",
       "    </tr>\n",
       "    <tr>\n",
       "      <th>11811</th>\n",
       "      <td>breadedaustralia</td>\n",
       "      <td>261640</td>\n",
       "      <td>False</td>\n",
       "      <td>1</td>\n",
       "    </tr>\n",
       "  </tbody>\n",
       "</table>\n",
       "</div>"
      ],
      "text/plain": [
       "         user_id_reviews  item_id  recommend  sentiment_analysis\n",
       "35644  76561198085905659      550       True                   1\n",
       "7694        snakrobotza3   413150       True                   1\n",
       "11811   breadedaustralia   261640      False                   1"
      ]
     },
     "execution_count": 233,
     "metadata": {},
     "output_type": "execute_result"
    }
   ],
   "source": [
    "#Control de la data\n",
    "df_reviews.sample(3)"
   ]
  },
  {
   "cell_type": "markdown",
   "metadata": {},
   "source": [
    "DATAFRAME ITEMS"
   ]
  },
  {
   "cell_type": "code",
   "execution_count": 234,
   "metadata": {},
   "outputs": [
    {
     "data": {
      "text/html": [
       "<div>\n",
       "<style scoped>\n",
       "    .dataframe tbody tr th:only-of-type {\n",
       "        vertical-align: middle;\n",
       "    }\n",
       "\n",
       "    .dataframe tbody tr th {\n",
       "        vertical-align: top;\n",
       "    }\n",
       "\n",
       "    .dataframe thead th {\n",
       "        text-align: right;\n",
       "    }\n",
       "</style>\n",
       "<table border=\"1\" class=\"dataframe\">\n",
       "  <thead>\n",
       "    <tr style=\"text-align: right;\">\n",
       "      <th></th>\n",
       "      <th>user_id_items</th>\n",
       "      <th>items_count</th>\n",
       "      <th>steam_id</th>\n",
       "      <th>user_url</th>\n",
       "      <th>item_id</th>\n",
       "      <th>item_name</th>\n",
       "      <th>playtime_forever</th>\n",
       "      <th>playtime_2weeks</th>\n",
       "    </tr>\n",
       "  </thead>\n",
       "  <tbody>\n",
       "    <tr>\n",
       "      <th>0</th>\n",
       "      <td>76561197970982479</td>\n",
       "      <td>277</td>\n",
       "      <td>76561197970982479</td>\n",
       "      <td>http://steamcommunity.com/profiles/76561197970...</td>\n",
       "      <td>10</td>\n",
       "      <td>Counter-Strike</td>\n",
       "      <td>6</td>\n",
       "      <td>0</td>\n",
       "    </tr>\n",
       "    <tr>\n",
       "      <th>1</th>\n",
       "      <td>76561197970982479</td>\n",
       "      <td>277</td>\n",
       "      <td>76561197970982479</td>\n",
       "      <td>http://steamcommunity.com/profiles/76561197970...</td>\n",
       "      <td>20</td>\n",
       "      <td>Team Fortress Classic</td>\n",
       "      <td>0</td>\n",
       "      <td>0</td>\n",
       "    </tr>\n",
       "    <tr>\n",
       "      <th>2</th>\n",
       "      <td>76561197970982479</td>\n",
       "      <td>277</td>\n",
       "      <td>76561197970982479</td>\n",
       "      <td>http://steamcommunity.com/profiles/76561197970...</td>\n",
       "      <td>30</td>\n",
       "      <td>Day of Defeat</td>\n",
       "      <td>7</td>\n",
       "      <td>0</td>\n",
       "    </tr>\n",
       "    <tr>\n",
       "      <th>3</th>\n",
       "      <td>76561197970982479</td>\n",
       "      <td>277</td>\n",
       "      <td>76561197970982479</td>\n",
       "      <td>http://steamcommunity.com/profiles/76561197970...</td>\n",
       "      <td>40</td>\n",
       "      <td>Deathmatch Classic</td>\n",
       "      <td>0</td>\n",
       "      <td>0</td>\n",
       "    </tr>\n",
       "    <tr>\n",
       "      <th>4</th>\n",
       "      <td>76561197970982479</td>\n",
       "      <td>277</td>\n",
       "      <td>76561197970982479</td>\n",
       "      <td>http://steamcommunity.com/profiles/76561197970...</td>\n",
       "      <td>50</td>\n",
       "      <td>Half-Life: Opposing Force</td>\n",
       "      <td>0</td>\n",
       "      <td>0</td>\n",
       "    </tr>\n",
       "    <tr>\n",
       "      <th>...</th>\n",
       "      <td>...</td>\n",
       "      <td>...</td>\n",
       "      <td>...</td>\n",
       "      <td>...</td>\n",
       "      <td>...</td>\n",
       "      <td>...</td>\n",
       "      <td>...</td>\n",
       "      <td>...</td>\n",
       "    </tr>\n",
       "    <tr>\n",
       "      <th>5153204</th>\n",
       "      <td>76561198329548331</td>\n",
       "      <td>7</td>\n",
       "      <td>76561198329548331</td>\n",
       "      <td>http://steamcommunity.com/profiles/76561198329...</td>\n",
       "      <td>346330</td>\n",
       "      <td>BrainBread 2</td>\n",
       "      <td>0</td>\n",
       "      <td>0</td>\n",
       "    </tr>\n",
       "    <tr>\n",
       "      <th>5153205</th>\n",
       "      <td>76561198329548331</td>\n",
       "      <td>7</td>\n",
       "      <td>76561198329548331</td>\n",
       "      <td>http://steamcommunity.com/profiles/76561198329...</td>\n",
       "      <td>373330</td>\n",
       "      <td>All Is Dust</td>\n",
       "      <td>0</td>\n",
       "      <td>0</td>\n",
       "    </tr>\n",
       "    <tr>\n",
       "      <th>5153206</th>\n",
       "      <td>76561198329548331</td>\n",
       "      <td>7</td>\n",
       "      <td>76561198329548331</td>\n",
       "      <td>http://steamcommunity.com/profiles/76561198329...</td>\n",
       "      <td>388490</td>\n",
       "      <td>One Way To Die: Steam Edition</td>\n",
       "      <td>3</td>\n",
       "      <td>3</td>\n",
       "    </tr>\n",
       "    <tr>\n",
       "      <th>5153207</th>\n",
       "      <td>76561198329548331</td>\n",
       "      <td>7</td>\n",
       "      <td>76561198329548331</td>\n",
       "      <td>http://steamcommunity.com/profiles/76561198329...</td>\n",
       "      <td>521570</td>\n",
       "      <td>You Have 10 Seconds 2</td>\n",
       "      <td>4</td>\n",
       "      <td>4</td>\n",
       "    </tr>\n",
       "    <tr>\n",
       "      <th>5153208</th>\n",
       "      <td>76561198329548331</td>\n",
       "      <td>7</td>\n",
       "      <td>76561198329548331</td>\n",
       "      <td>http://steamcommunity.com/profiles/76561198329...</td>\n",
       "      <td>519140</td>\n",
       "      <td>Minds Eyes</td>\n",
       "      <td>3</td>\n",
       "      <td>3</td>\n",
       "    </tr>\n",
       "  </tbody>\n",
       "</table>\n",
       "<p>5153209 rows × 8 columns</p>\n",
       "</div>"
      ],
      "text/plain": [
       "             user_id_items  items_count           steam_id   \n",
       "0        76561197970982479          277  76561197970982479  \\\n",
       "1        76561197970982479          277  76561197970982479   \n",
       "2        76561197970982479          277  76561197970982479   \n",
       "3        76561197970982479          277  76561197970982479   \n",
       "4        76561197970982479          277  76561197970982479   \n",
       "...                    ...          ...                ...   \n",
       "5153204  76561198329548331            7  76561198329548331   \n",
       "5153205  76561198329548331            7  76561198329548331   \n",
       "5153206  76561198329548331            7  76561198329548331   \n",
       "5153207  76561198329548331            7  76561198329548331   \n",
       "5153208  76561198329548331            7  76561198329548331   \n",
       "\n",
       "                                                  user_url  item_id   \n",
       "0        http://steamcommunity.com/profiles/76561197970...       10  \\\n",
       "1        http://steamcommunity.com/profiles/76561197970...       20   \n",
       "2        http://steamcommunity.com/profiles/76561197970...       30   \n",
       "3        http://steamcommunity.com/profiles/76561197970...       40   \n",
       "4        http://steamcommunity.com/profiles/76561197970...       50   \n",
       "...                                                    ...      ...   \n",
       "5153204  http://steamcommunity.com/profiles/76561198329...   346330   \n",
       "5153205  http://steamcommunity.com/profiles/76561198329...   373330   \n",
       "5153206  http://steamcommunity.com/profiles/76561198329...   388490   \n",
       "5153207  http://steamcommunity.com/profiles/76561198329...   521570   \n",
       "5153208  http://steamcommunity.com/profiles/76561198329...   519140   \n",
       "\n",
       "                             item_name  playtime_forever  playtime_2weeks  \n",
       "0                       Counter-Strike                 6                0  \n",
       "1                Team Fortress Classic                 0                0  \n",
       "2                        Day of Defeat                 7                0  \n",
       "3                   Deathmatch Classic                 0                0  \n",
       "4            Half-Life: Opposing Force                 0                0  \n",
       "...                                ...               ...              ...  \n",
       "5153204                   BrainBread 2                 0                0  \n",
       "5153205                    All Is Dust                 0                0  \n",
       "5153206  One Way To Die: Steam Edition                 3                3  \n",
       "5153207          You Have 10 Seconds 2                 4                4  \n",
       "5153208                     Minds Eyes                 3                3  \n",
       "\n",
       "[5153209 rows x 8 columns]"
      ]
     },
     "execution_count": 234,
     "metadata": {},
     "output_type": "execute_result"
    }
   ],
   "source": [
    "# Se visualiza el df\n",
    "df_items"
   ]
  },
  {
   "cell_type": "code",
   "execution_count": 235,
   "metadata": {},
   "outputs": [
    {
     "name": "stdout",
     "output_type": "stream",
     "text": [
      "<class 'pandas.core.frame.DataFrame'>\n",
      "RangeIndex: 5153209 entries, 0 to 5153208\n",
      "Data columns (total 8 columns):\n",
      " #   Column            Dtype \n",
      "---  ------            ----- \n",
      " 0   user_id_items     object\n",
      " 1   items_count       int64 \n",
      " 2   steam_id          int64 \n",
      " 3   user_url          object\n",
      " 4   item_id           int64 \n",
      " 5   item_name         object\n",
      " 6   playtime_forever  int64 \n",
      " 7   playtime_2weeks   int64 \n",
      "dtypes: int64(5), object(3)\n",
      "memory usage: 314.5+ MB\n"
     ]
    }
   ],
   "source": [
    "# Vista general de la data\n",
    "df_items.info()"
   ]
  },
  {
   "cell_type": "code",
   "execution_count": 236,
   "metadata": {},
   "outputs": [
    {
     "data": {
      "text/plain": [
       "(5153209, 8)"
      ]
     },
     "execution_count": 236,
     "metadata": {},
     "output_type": "execute_result"
    }
   ],
   "source": [
    "# Se verifica el tamaño de la base de datos\n",
    "df_items.shape"
   ]
  },
  {
   "cell_type": "code",
   "execution_count": 237,
   "metadata": {},
   "outputs": [],
   "source": [
    "#Se elimina las columnas items_count, steam_id, user_url, playtime_2week\n",
    "df_items.drop(['items_count', 'steam_id', 'user_url','playtime_2weeks'], axis=1, inplace=True)"
   ]
  },
  {
   "cell_type": "code",
   "execution_count": 238,
   "metadata": {},
   "outputs": [
    {
     "data": {
      "text/html": [
       "<div>\n",
       "<style scoped>\n",
       "    .dataframe tbody tr th:only-of-type {\n",
       "        vertical-align: middle;\n",
       "    }\n",
       "\n",
       "    .dataframe tbody tr th {\n",
       "        vertical-align: top;\n",
       "    }\n",
       "\n",
       "    .dataframe thead th {\n",
       "        text-align: right;\n",
       "    }\n",
       "</style>\n",
       "<table border=\"1\" class=\"dataframe\">\n",
       "  <thead>\n",
       "    <tr style=\"text-align: right;\">\n",
       "      <th></th>\n",
       "      <th>user_id_items</th>\n",
       "      <th>item_id</th>\n",
       "      <th>item_name</th>\n",
       "      <th>playtime_forever</th>\n",
       "    </tr>\n",
       "  </thead>\n",
       "  <tbody>\n",
       "    <tr>\n",
       "      <th>4791134</th>\n",
       "      <td>76561198072517781</td>\n",
       "      <td>273110</td>\n",
       "      <td>Counter-Strike Nexon: Zombies</td>\n",
       "      <td>0</td>\n",
       "    </tr>\n",
       "    <tr>\n",
       "      <th>1152237</th>\n",
       "      <td>harrybyrne</td>\n",
       "      <td>21120</td>\n",
       "      <td>F.E.A.R.: Perseus Mandate</td>\n",
       "      <td>0</td>\n",
       "    </tr>\n",
       "    <tr>\n",
       "      <th>4567000</th>\n",
       "      <td>76561198059739464</td>\n",
       "      <td>251670</td>\n",
       "      <td>Battle Nations</td>\n",
       "      <td>1</td>\n",
       "    </tr>\n",
       "  </tbody>\n",
       "</table>\n",
       "</div>"
      ],
      "text/plain": [
       "             user_id_items  item_id                      item_name   \n",
       "4791134  76561198072517781   273110  Counter-Strike Nexon: Zombies  \\\n",
       "1152237         harrybyrne    21120      F.E.A.R.: Perseus Mandate   \n",
       "4567000  76561198059739464   251670                 Battle Nations   \n",
       "\n",
       "         playtime_forever  \n",
       "4791134                 0  \n",
       "1152237                 0  \n",
       "4567000                 1  "
      ]
     },
     "execution_count": 238,
     "metadata": {},
     "output_type": "execute_result"
    }
   ],
   "source": [
    "# Se imprimen los primeros 3 registros para hacer un control de la data\n",
    "df_items.sample(3)"
   ]
  },
  {
   "cell_type": "code",
   "execution_count": 239,
   "metadata": {},
   "outputs": [
    {
     "name": "stdout",
     "output_type": "stream",
     "text": [
      "<class 'pandas.core.frame.DataFrame'>\n",
      "RangeIndex: 5153209 entries, 0 to 5153208\n",
      "Data columns (total 4 columns):\n",
      " #   Column            Dtype \n",
      "---  ------            ----- \n",
      " 0   user_id_items     object\n",
      " 1   item_id           int64 \n",
      " 2   item_name         object\n",
      " 3   playtime_forever  int64 \n",
      "dtypes: int64(2), object(2)\n",
      "memory usage: 157.3+ MB\n"
     ]
    }
   ],
   "source": [
    "#Control de visualización de la data con los cambios\n",
    "df_items.info()"
   ]
  },
  {
   "cell_type": "code",
   "execution_count": 240,
   "metadata": {},
   "outputs": [
    {
     "data": {
      "text/html": [
       "<div>\n",
       "<style scoped>\n",
       "    .dataframe tbody tr th:only-of-type {\n",
       "        vertical-align: middle;\n",
       "    }\n",
       "\n",
       "    .dataframe tbody tr th {\n",
       "        vertical-align: top;\n",
       "    }\n",
       "\n",
       "    .dataframe thead th {\n",
       "        text-align: right;\n",
       "    }\n",
       "</style>\n",
       "<table border=\"1\" class=\"dataframe\">\n",
       "  <thead>\n",
       "    <tr style=\"text-align: right;\">\n",
       "      <th></th>\n",
       "      <th>item_id</th>\n",
       "      <th>playtime_forever</th>\n",
       "    </tr>\n",
       "  </thead>\n",
       "  <tbody>\n",
       "    <tr>\n",
       "      <th>count</th>\n",
       "      <td>5.153209e+06</td>\n",
       "      <td>5.153209e+06</td>\n",
       "    </tr>\n",
       "    <tr>\n",
       "      <th>mean</th>\n",
       "      <td>1.784481e+05</td>\n",
       "      <td>9.914951e+02</td>\n",
       "    </tr>\n",
       "    <tr>\n",
       "      <th>std</th>\n",
       "      <td>1.318598e+05</td>\n",
       "      <td>5.418204e+03</td>\n",
       "    </tr>\n",
       "    <tr>\n",
       "      <th>min</th>\n",
       "      <td>1.000000e+01</td>\n",
       "      <td>0.000000e+00</td>\n",
       "    </tr>\n",
       "    <tr>\n",
       "      <th>25%</th>\n",
       "      <td>3.446000e+04</td>\n",
       "      <td>0.000000e+00</td>\n",
       "    </tr>\n",
       "    <tr>\n",
       "      <th>50%</th>\n",
       "      <td>2.144200e+05</td>\n",
       "      <td>3.400000e+01</td>\n",
       "    </tr>\n",
       "    <tr>\n",
       "      <th>75%</th>\n",
       "      <td>2.664300e+05</td>\n",
       "      <td>3.550000e+02</td>\n",
       "    </tr>\n",
       "    <tr>\n",
       "      <th>max</th>\n",
       "      <td>5.307200e+05</td>\n",
       "      <td>6.427730e+05</td>\n",
       "    </tr>\n",
       "  </tbody>\n",
       "</table>\n",
       "</div>"
      ],
      "text/plain": [
       "            item_id  playtime_forever\n",
       "count  5.153209e+06      5.153209e+06\n",
       "mean   1.784481e+05      9.914951e+02\n",
       "std    1.318598e+05      5.418204e+03\n",
       "min    1.000000e+01      0.000000e+00\n",
       "25%    3.446000e+04      0.000000e+00\n",
       "50%    2.144200e+05      3.400000e+01\n",
       "75%    2.664300e+05      3.550000e+02\n",
       "max    5.307200e+05      6.427730e+05"
      ]
     },
     "execution_count": 240,
     "metadata": {},
     "output_type": "execute_result"
    }
   ],
   "source": [
    "# Descripcion de variables numericas\n",
    "df_items.describe()"
   ]
  },
  {
   "cell_type": "code",
   "execution_count": 241,
   "metadata": {},
   "outputs": [
    {
     "data": {
      "text/html": [
       "<div>\n",
       "<style scoped>\n",
       "    .dataframe tbody tr th:only-of-type {\n",
       "        vertical-align: middle;\n",
       "    }\n",
       "\n",
       "    .dataframe tbody tr th {\n",
       "        vertical-align: top;\n",
       "    }\n",
       "\n",
       "    .dataframe thead th {\n",
       "        text-align: right;\n",
       "    }\n",
       "</style>\n",
       "<table border=\"1\" class=\"dataframe\">\n",
       "  <thead>\n",
       "    <tr style=\"text-align: right;\">\n",
       "      <th></th>\n",
       "      <th>user_id_items</th>\n",
       "      <th>item_name</th>\n",
       "    </tr>\n",
       "  </thead>\n",
       "  <tbody>\n",
       "    <tr>\n",
       "      <th>count</th>\n",
       "      <td>5153209</td>\n",
       "      <td>5153209</td>\n",
       "    </tr>\n",
       "    <tr>\n",
       "      <th>unique</th>\n",
       "      <td>70912</td>\n",
       "      <td>10947</td>\n",
       "    </tr>\n",
       "    <tr>\n",
       "      <th>top</th>\n",
       "      <td>phrostb</td>\n",
       "      <td>Dota 2 Test</td>\n",
       "    </tr>\n",
       "    <tr>\n",
       "      <th>freq</th>\n",
       "      <td>7762</td>\n",
       "      <td>49571</td>\n",
       "    </tr>\n",
       "  </tbody>\n",
       "</table>\n",
       "</div>"
      ],
      "text/plain": [
       "       user_id_items    item_name\n",
       "count        5153209      5153209\n",
       "unique         70912        10947\n",
       "top          phrostb  Dota 2 Test\n",
       "freq            7762        49571"
      ]
     },
     "execution_count": 241,
     "metadata": {},
     "output_type": "execute_result"
    }
   ],
   "source": [
    "# Descripcion de las columnas no numericas \n",
    "df_items.describe(include=['O'])"
   ]
  },
  {
   "cell_type": "code",
   "execution_count": 242,
   "metadata": {},
   "outputs": [],
   "source": [
    "#Grafica de los 10 juegos mas top\n",
    "# Se agrupa los datos por nombre de juego y calcula la suma de las horas jugadas para cada juego.\n",
    "top_games = df_items.groupby('item_name')['playtime_forever'].sum().reset_index()"
   ]
  },
  {
   "cell_type": "code",
   "execution_count": 243,
   "metadata": {},
   "outputs": [],
   "source": [
    "#Se Ordena el df 'top_games' descendentemente basado en las horas jugadas ('playtime_forever').\n",
    "top_games = top_games.sort_values(by='playtime_forever', ascending=False)"
   ]
  },
  {
   "cell_type": "code",
   "execution_count": 244,
   "metadata": {},
   "outputs": [
    {
     "data": {
      "image/png": "[encoded data removed]",
      "text/plain": [
       "<Figure size 1200x800 with 1 Axes>"
      ]
     },
     "metadata": {},
     "output_type": "display_data"
    }
   ],
   "source": [
    "plt.figure(figsize=(12, 8))\n",
    "sns.barplot(x='playtime_forever', y='item_name', data=top_games.head(10), palette=\"viridis\")\n",
    "plt.title('Top 10 Juegos Más Jugados')\n",
    "plt.xlabel('Tiempo de Juego Total')\n",
    "plt.ylabel('Nombre del Juego')\n",
    "plt.show()"
   ]
  },
  {
   "cell_type": "markdown",
   "metadata": {},
   "source": [
    "MACHINE LEARNING"
   ]
  },
  {
   "cell_type": "markdown",
   "metadata": {},
   "source": [
    "Desarrollo del modelo Machine Learning"
   ]
  },
  {
   "cell_type": "markdown",
   "metadata": {},
   "source": [
    "Sistema de recomendación item-item por id juego"
   ]
  },
  {
   "cell_type": "code",
   "execution_count": 276,
   "metadata": {},
   "outputs": [],
   "source": [
    "# Eliminar filas con valores de género nulos por precaución\n",
    "df_games = df_games.dropna(subset=['genres'])  \n",
    "\n",
    "# Se convierte la lista a cadena\n",
    "genres_list = df_games['genres'].apply(lambda x: ' '.join(x))  \n",
    "\n",
    "# Codificar los géneros en la columna 'genres_list' en formato one-hot\n",
    "df_encoded = pd.get_dummies(genres_list.str.split(expand=True).stack(), prefix='genre').groupby(level=0).sum()"
   ]
  },
  {
   "cell_type": "code",
   "execution_count": 277,
   "metadata": {},
   "outputs": [
    {
     "data": {
      "text/html": [
       "<div>\n",
       "<style scoped>\n",
       "    .dataframe tbody tr th:only-of-type {\n",
       "        vertical-align: middle;\n",
       "    }\n",
       "\n",
       "    .dataframe tbody tr th {\n",
       "        vertical-align: top;\n",
       "    }\n",
       "\n",
       "    .dataframe thead th {\n",
       "        text-align: right;\n",
       "    }\n",
       "</style>\n",
       "<table border=\"1\" class=\"dataframe\">\n",
       "  <thead>\n",
       "    <tr style=\"text-align: right;\">\n",
       "      <th></th>\n",
       "      <th>genre_&amp;</th>\n",
       "      <th>genre_'</th>\n",
       "      <th>genre_,</th>\n",
       "      <th>genre_;</th>\n",
       "      <th>genre_A</th>\n",
       "      <th>genre_C</th>\n",
       "      <th>genre_D</th>\n",
       "      <th>genre_E</th>\n",
       "      <th>genre_F</th>\n",
       "      <th>genre_G</th>\n",
       "      <th>...</th>\n",
       "      <th>genre_n</th>\n",
       "      <th>genre_o</th>\n",
       "      <th>genre_p</th>\n",
       "      <th>genre_r</th>\n",
       "      <th>genre_s</th>\n",
       "      <th>genre_t</th>\n",
       "      <th>genre_u</th>\n",
       "      <th>genre_v</th>\n",
       "      <th>genre_w</th>\n",
       "      <th>genre_y</th>\n",
       "    </tr>\n",
       "  </thead>\n",
       "  <tbody>\n",
       "    <tr>\n",
       "      <th>0</th>\n",
       "      <td>0</td>\n",
       "      <td>10</td>\n",
       "      <td>4</td>\n",
       "      <td>0</td>\n",
       "      <td>1</td>\n",
       "      <td>1</td>\n",
       "      <td>0</td>\n",
       "      <td>0</td>\n",
       "      <td>0</td>\n",
       "      <td>0</td>\n",
       "      <td>...</td>\n",
       "      <td>3</td>\n",
       "      <td>2</td>\n",
       "      <td>0</td>\n",
       "      <td>1</td>\n",
       "      <td>1</td>\n",
       "      <td>4</td>\n",
       "      <td>2</td>\n",
       "      <td>0</td>\n",
       "      <td>0</td>\n",
       "      <td>1</td>\n",
       "    </tr>\n",
       "    <tr>\n",
       "      <th>1</th>\n",
       "      <td>0</td>\n",
       "      <td>8</td>\n",
       "      <td>3</td>\n",
       "      <td>0</td>\n",
       "      <td>0</td>\n",
       "      <td>0</td>\n",
       "      <td>0</td>\n",
       "      <td>0</td>\n",
       "      <td>1</td>\n",
       "      <td>1</td>\n",
       "      <td>...</td>\n",
       "      <td>1</td>\n",
       "      <td>1</td>\n",
       "      <td>0</td>\n",
       "      <td>2</td>\n",
       "      <td>0</td>\n",
       "      <td>3</td>\n",
       "      <td>0</td>\n",
       "      <td>0</td>\n",
       "      <td>0</td>\n",
       "      <td>2</td>\n",
       "    </tr>\n",
       "    <tr>\n",
       "      <th>2</th>\n",
       "      <td>0</td>\n",
       "      <td>10</td>\n",
       "      <td>4</td>\n",
       "      <td>0</td>\n",
       "      <td>0</td>\n",
       "      <td>1</td>\n",
       "      <td>0</td>\n",
       "      <td>0</td>\n",
       "      <td>1</td>\n",
       "      <td>0</td>\n",
       "      <td>...</td>\n",
       "      <td>2</td>\n",
       "      <td>3</td>\n",
       "      <td>1</td>\n",
       "      <td>2</td>\n",
       "      <td>2</td>\n",
       "      <td>3</td>\n",
       "      <td>2</td>\n",
       "      <td>0</td>\n",
       "      <td>0</td>\n",
       "      <td>1</td>\n",
       "    </tr>\n",
       "  </tbody>\n",
       "</table>\n",
       "<p>3 rows × 42 columns</p>\n",
       "</div>"
      ],
      "text/plain": [
       "   genre_&  genre_'  genre_,  genre_;  genre_A  genre_C  genre_D  genre_E   \n",
       "0        0       10        4        0        1        1        0        0  \\\n",
       "1        0        8        3        0        0        0        0        0   \n",
       "2        0       10        4        0        0        1        0        0   \n",
       "\n",
       "   genre_F  genre_G  ...  genre_n  genre_o  genre_p  genre_r  genre_s   \n",
       "0        0        0  ...        3        2        0        1        1  \\\n",
       "1        1        1  ...        1        1        0        2        0   \n",
       "2        1        0  ...        2        3        1        2        2   \n",
       "\n",
       "   genre_t  genre_u  genre_v  genre_w  genre_y  \n",
       "0        4        2        0        0        1  \n",
       "1        3        0        0        0        2  \n",
       "2        3        2        0        0        1  \n",
       "\n",
       "[3 rows x 42 columns]"
      ]
     },
     "execution_count": 277,
     "metadata": {},
     "output_type": "execute_result"
    }
   ],
   "source": [
    "# Se imprime para verificar la data\n",
    "df_encoded.head(3)"
   ]
  },
  {
   "cell_type": "code",
   "execution_count": 278,
   "metadata": {},
   "outputs": [],
   "source": [
    "# Se importa la función cosine_similarity del módulo sklearn.metrics.pairwise\n",
    "from sklearn.metrics.pairwise import cosine_similarity \n",
    "\n",
    "# Se calcula la matriz de similitud de coseno entre dos conjuntos de datos codificados en formato one-hot.\n",
    "similarity_matrix = cosine_similarity(df_encoded, df_encoded)"
   ]
  },
  {
   "cell_type": "code",
   "execution_count": 279,
   "metadata": {},
   "outputs": [],
   "source": [
    "def find_similar_games(target_game_name, similarity_matrix, df_games):\n",
    "    # Se encuentra el índice del juego\n",
    "    game_index = df_games[df_games['title'] == target_game_name].index[0]\n",
    "\n",
    "    # Se calcula la similitud de coseno entre el juego seleccionado y todos los otros juegos\n",
    "    similar_games_indices = similarity_matrix[game_index].argsort()[::-1][1:]\n",
    "\n",
    "    # halla los títulos de los juegos similares a partir de los indices calculados\n",
    "    similar_games_name = df_games['title'].iloc[similar_games_indices]\n",
    "    \n",
    "    return similar_games_name\n"
   ]
  },
  {
   "cell_type": "code",
   "execution_count": 280,
   "metadata": {},
   "outputs": [
    {
     "data": {
      "text/plain": [
       "13599    Friday the 13th: The Game - Costume Party Coun...\n",
       "18978                                          Apokalypsis\n",
       "28458                                  Hitman: Absolution™\n",
       "13579                     Wolfenstein II: The New Colossus\n",
       "16433                     Battlezone - Classic Camo (Skin)\n",
       "Name: title, dtype: object"
      ]
     },
     "execution_count": 280,
     "metadata": {},
     "output_type": "execute_result"
    }
   ],
   "source": [
    "# Se pone un nombre de juego y da el top 5\n",
    "target_game_name_1 = \"Madrobot X\"\n",
    "top_similar_games_1 = find_similar_games(target_game_name_1, similarity_matrix, df_games)\n",
    "top_similar_games_1.head(5)"
   ]
  },
  {
   "cell_type": "markdown",
   "metadata": {},
   "source": [
    "Sistema de recomendación user-item por nombre de juego"
   ]
  },
  {
   "cell_type": "code",
   "execution_count": 259,
   "metadata": {},
   "outputs": [],
   "source": [
    "#Se realiza un muestreo aleatorio de los datos, para mejor rendimiento\n",
    "sampled_reviews = df_reviews.sample(frac=0.1)  # muestreo del 10% de las filas aleatoriamente\n",
    "sampled_items = df_items.sample(frac=0.1)      # muestreo del 10% de las filas aleatoriamente"
   ]
  },
  {
   "cell_type": "code",
   "execution_count": 260,
   "metadata": {},
   "outputs": [],
   "source": [
    "# Combina los df muestreados\n",
    "df_merged = pd.merge(sampled_reviews, sampled_items, on='item_id', how='inner')"
   ]
  },
  {
   "cell_type": "code",
   "execution_count": 252,
   "metadata": {},
   "outputs": [],
   "source": [
    "## Proceso que realice para la API\n",
    "\n",
    "# Guarda el DataFrame en un archivo CSV\n",
    "# df_merged.to_csv('df_games_api.csv', index=False)"
   ]
  },
  {
   "cell_type": "code",
   "execution_count": 253,
   "metadata": {},
   "outputs": [],
   "source": [
    "## Proceso que realice para la API\n",
    "\n",
    "# Se carga el archivo\n",
    "##bloque la siguiente linea de codigo para que no me genere otr df, ya que cuando le hago el sampleo siempre me va generar diferentes\n",
    "# df_games_api= pd.read_csv(\"df_games_api.csv\", sep=',', encoding='utf-8-sig')"
   ]
  },
  {
   "cell_type": "code",
   "execution_count": 263,
   "metadata": {},
   "outputs": [],
   "source": [
    "#Se crea una matriz de Usuario item\n",
    "user_item_matrix = df_merged.pivot_table(index='user_id_reviews', columns='item_name', values='sentiment_analysis', fill_value=0)"
   ]
  },
  {
   "cell_type": "code",
   "execution_count": 264,
   "metadata": {},
   "outputs": [],
   "source": [
    "#Se calcula la similitud entre usuarios\n",
    "user_similarity = cosine_similarity(user_item_matrix)"
   ]
  },
  {
   "cell_type": "code",
   "execution_count": 265,
   "metadata": {},
   "outputs": [],
   "source": [
    "def recomendacion_usuario(id_usuario):\n",
    "    # Halla el índice del usuario en la matriz\n",
    "    index = user_item_matrix.index.get_loc(id_usuario)\n",
    "    \n",
    "    # Se calcula la similitud del usuario con todos los demás usuarios\n",
    "    user_similarities = user_similarity[index]\n",
    "    \n",
    "    # Se ordena los usuarios similares en orden descendente a la similitud\n",
    "    similar_users_indices = user_similarities.argsort()[::-1]\n",
    "    \n",
    "    # Encuentra los ítems que el usuario no ha valorado\n",
    "    items_not_rated_by_user = user_item_matrix.loc[id_usuario] == 0\n",
    "    recommended_items = user_item_matrix.columns[items_not_rated_by_user]\n",
    "    \n",
    "    # Almacena las recomendaciones de los ítems valorados por los usuarios similares\n",
    "    recommendations = []\n",
    "    for user_idx in similar_users_indices:\n",
    "        similar_user_id = user_item_matrix.index[user_idx]\n",
    "        rated_items = user_item_matrix.loc[similar_user_id]\n",
    "        top_items = rated_items.index  # Recomienda todos los ítems valorados por usuarios similares\n",
    "        recommendations.extend(top_items)\n",
    "        \n",
    "        # Se limita la cantidad de recomendaciones\n",
    "        if len(recommendations) >= 5:\n",
    "            break\n",
    "    \n",
    "    return recommendations[:5]  # Devuelve las primeras 5 recomendaciones"
   ]
  },
  {
   "cell_type": "code",
   "execution_count": 270,
   "metadata": {},
   "outputs": [
    {
     "data": {
      "text/html": [
       "<div>\n",
       "<style scoped>\n",
       "    .dataframe tbody tr th:only-of-type {\n",
       "        vertical-align: middle;\n",
       "    }\n",
       "\n",
       "    .dataframe tbody tr th {\n",
       "        vertical-align: top;\n",
       "    }\n",
       "\n",
       "    .dataframe thead th {\n",
       "        text-align: right;\n",
       "    }\n",
       "</style>\n",
       "<table border=\"1\" class=\"dataframe\">\n",
       "  <thead>\n",
       "    <tr style=\"text-align: right;\">\n",
       "      <th></th>\n",
       "      <th>user_id_reviews</th>\n",
       "      <th>item_id</th>\n",
       "      <th>recommend</th>\n",
       "      <th>sentiment_analysis</th>\n",
       "      <th>user_id_items</th>\n",
       "      <th>item_name</th>\n",
       "      <th>playtime_forever</th>\n",
       "    </tr>\n",
       "  </thead>\n",
       "  <tbody>\n",
       "    <tr>\n",
       "      <th>1304773</th>\n",
       "      <td>LerKxA</td>\n",
       "      <td>730</td>\n",
       "      <td>True</td>\n",
       "      <td>2</td>\n",
       "      <td>moondos</td>\n",
       "      <td>Counter-Strike: Global Offensive</td>\n",
       "      <td>150</td>\n",
       "    </tr>\n",
       "    <tr>\n",
       "      <th>4570649</th>\n",
       "      <td>zayzayem</td>\n",
       "      <td>550</td>\n",
       "      <td>True</td>\n",
       "      <td>1</td>\n",
       "      <td>76561198067645703</td>\n",
       "      <td>Left 4 Dead 2</td>\n",
       "      <td>862</td>\n",
       "    </tr>\n",
       "    <tr>\n",
       "      <th>5882673</th>\n",
       "      <td>humanstapler</td>\n",
       "      <td>200210</td>\n",
       "      <td>True</td>\n",
       "      <td>2</td>\n",
       "      <td>76561198102177001</td>\n",
       "      <td>Realm of the Mad God</td>\n",
       "      <td>522</td>\n",
       "    </tr>\n",
       "    <tr>\n",
       "      <th>6454526</th>\n",
       "      <td>Dolanito500</td>\n",
       "      <td>346900</td>\n",
       "      <td>True</td>\n",
       "      <td>1</td>\n",
       "      <td>TehRealNurD</td>\n",
       "      <td>AdVenture Capitalist</td>\n",
       "      <td>0</td>\n",
       "    </tr>\n",
       "    <tr>\n",
       "      <th>1157791</th>\n",
       "      <td>iwannakilmyselfthx</td>\n",
       "      <td>730</td>\n",
       "      <td>True</td>\n",
       "      <td>1</td>\n",
       "      <td>76561198048203900</td>\n",
       "      <td>Counter-Strike: Global Offensive</td>\n",
       "      <td>6603</td>\n",
       "    </tr>\n",
       "  </tbody>\n",
       "</table>\n",
       "</div>"
      ],
      "text/plain": [
       "            user_id_reviews  item_id  recommend  sentiment_analysis   \n",
       "1304773              LerKxA      730       True                   2  \\\n",
       "4570649            zayzayem      550       True                   1   \n",
       "5882673        humanstapler   200210       True                   2   \n",
       "6454526         Dolanito500   346900       True                   1   \n",
       "1157791  iwannakilmyselfthx      730       True                   1   \n",
       "\n",
       "             user_id_items                         item_name  playtime_forever  \n",
       "1304773            moondos  Counter-Strike: Global Offensive               150  \n",
       "4570649  76561198067645703                     Left 4 Dead 2               862  \n",
       "5882673  76561198102177001              Realm of the Mad God               522  \n",
       "6454526        TehRealNurD              AdVenture Capitalist                 0  \n",
       "1157791  76561198048203900  Counter-Strike: Global Offensive              6603  "
      ]
     },
     "execution_count": 270,
     "metadata": {},
     "output_type": "execute_result"
    }
   ],
   "source": [
    "df_merged.sample(5)"
   ]
  },
  {
   "cell_type": "code",
   "execution_count": 268,
   "metadata": {},
   "outputs": [
    {
     "name": "stdout",
     "output_type": "stream",
     "text": [
      "Recomendaciones para el usuario GameTaj:\n",
      "1. ! That Bastard Is Trying To Steal Our Gold !\n",
      "2. 100% Orange Juice\n",
      "3. 12 Labours of Hercules\n",
      "4. 16bit Trader\n",
      "5. 3089 -- Futuristic Action RPG\n"
     ]
    }
   ],
   "source": [
    "#Se llama a la función recomendacion_usuario para un usuario específico\n",
    "usuario_id = 'GameTaj' # Introducción del usuario que queremos verificar \n",
    "recomendaciones = recomendacion_usuario(usuario_id)\n",
    "\n",
    "# Imprimimos las recomendaciones\n",
    "print(f'Recomendaciones para el usuario {usuario_id}:')\n",
    "for i, item in enumerate(recomendaciones, start=1):\n",
    "    print(f'{i}. {item}')\n"
   ]
  }
 ],
 "metadata": {
  "kernelspec": {
   "display_name": "Python 3",
   "language": "python",
   "name": "python3"
  },
  "language_info": {
   "codemirror_mode": {
    "name": "ipython",
    "version": 3
   },
   "file_extension": ".py",
   "mimetype": "text/x-python",
   "name": "python",
   "nbconvert_exporter": "python",
   "pygments_lexer": "ipython3",
   "version": "3.10.11"
  },
  "orig_nbformat": 4
 },
 "nbformat": 4,
 "nbformat_minor": 2
}
